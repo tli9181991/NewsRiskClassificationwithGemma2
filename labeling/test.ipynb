{
 "cells": [
  {
   "cell_type": "code",
   "execution_count": 1,
   "id": "303004fc",
   "metadata": {},
   "outputs": [
    {
     "ename": "ModuleNotFoundError",
     "evalue": "No module named 'yfinance_scraper'",
     "output_type": "error",
     "traceback": [
      "\u001b[1;31m---------------------------------------------------------------------------\u001b[0m",
      "\u001b[1;31mModuleNotFoundError\u001b[0m                       Traceback (most recent call last)",
      "Cell \u001b[1;32mIn[1], line 1\u001b[0m\n\u001b[1;32m----> 1\u001b[0m \u001b[38;5;28;01mfrom\u001b[39;00m \u001b[38;5;21;01myfinance_scraper\u001b[39;00m \u001b[38;5;28;01mimport\u001b[39;00m fetch_yfinance_news_data\n",
      "\u001b[1;31mModuleNotFoundError\u001b[0m: No module named 'yfinance_scraper'"
     ]
    }
   ],
   "source": [
    "from yfinance_scraper import fetch_yfinance_news_data"
   ]
  },
  {
   "cell_type": "code",
   "execution_count": null,
   "id": "086f1372",
   "metadata": {},
   "outputs": [],
   "source": [
    "from datetime import datetime, timedelta"
   ]
  },
  {
   "cell_type": "code",
   "execution_count": null,
   "id": "be39cb8c",
   "metadata": {},
   "outputs": [],
   "source": [
    "end_datetime = datetime.now() - timedelta(days=30)\n",
    "end_datetime"
   ]
  },
  {
   "cell_type": "code",
   "execution_count": 4,
   "id": "c4c766f1-951f-40e6-aa3c-d4265b78248d",
   "metadata": {},
   "outputs": [],
   "source": [
    "ticker = \"AMZN\""
   ]
  },
  {
   "cell_type": "code",
   "execution_count": 5,
   "id": "948a37e4",
   "metadata": {},
   "outputs": [
    {
     "name": "stdout",
     "output_type": "stream",
     "text": [
      "Scrolling 9...\n",
      "Total Srcoll: 9\n",
      "News Collecting...\n",
      "processing: https://finance.yahoo.com/news/amazon-amzn-buy-sell-hold-040324978.html476.html2.htmlhtmlml00160.html918446.htmlng-at-microsoft-213847151.html\n",
      "News collected from 2025-06-17 12:03:00 to 2025-06-17 12:03:00\n"
     ]
    }
   ],
   "source": [
    "df_news = fetch_yfinance_news_data(ticker, end_datetime, 100, slp_time=10)"
   ]
  },
  {
   "cell_type": "code",
   "execution_count": 6,
   "id": "911547fb",
   "metadata": {},
   "outputs": [
    {
     "data": {
      "text/html": [
       "<div>\n",
       "<style scoped>\n",
       "    .dataframe tbody tr th:only-of-type {\n",
       "        vertical-align: middle;\n",
       "    }\n",
       "\n",
       "    .dataframe tbody tr th {\n",
       "        vertical-align: top;\n",
       "    }\n",
       "\n",
       "    .dataframe thead th {\n",
       "        text-align: right;\n",
       "    }\n",
       "</style>\n",
       "<table border=\"1\" class=\"dataframe\">\n",
       "  <thead>\n",
       "    <tr style=\"text-align: right;\">\n",
       "      <th></th>\n",
       "      <th>Datetime</th>\n",
       "      <th>headline</th>\n",
       "      <th>description</th>\n",
       "      <th>article</th>\n",
       "      <th>link</th>\n",
       "    </tr>\n",
       "  </thead>\n",
       "  <tbody>\n",
       "    <tr>\n",
       "      <th>194</th>\n",
       "      <td>2025-06-17 12:03:00</td>\n",
       "      <td>Buffett Wouldn't Buy AI Yet -- but These 2 Art...</td>\n",
       "      <td>Buffett hasn’t been known to invest in the lat...</td>\n",
       "      <td>Buffett hasn’t been known to invest in the lat...</td>\n",
       "      <td>https://finance.yahoo.com/news/buffett-wouldnt...</td>\n",
       "    </tr>\n",
       "    <tr>\n",
       "      <th>195</th>\n",
       "      <td>2025-06-17 12:03:00</td>\n",
       "      <td>Amazon opens robotic fulfillment center in Mas...</td>\n",
       "      <td>The nearly 3 million square-foot-facility feat...</td>\n",
       "      <td>This story was originally published on Supply ...</td>\n",
       "      <td>https://finance.yahoo.com/news/amazon-opens-ro...</td>\n",
       "    </tr>\n",
       "    <tr>\n",
       "      <th>196</th>\n",
       "      <td>2025-06-17 12:03:00</td>\n",
       "      <td>Amazon announces four-day Prime Day discount e...</td>\n",
       "      <td>NEW YORK (Reuters) -Amazon.com's annual Prime ...</td>\n",
       "      <td>By Arriana McLymore.NEW YORK (Reuters) -Amazon...</td>\n",
       "      <td>https://finance.yahoo.com/news/amazon-announce...</td>\n",
       "    </tr>\n",
       "    <tr>\n",
       "      <th>197</th>\n",
       "      <td>2025-06-17 12:03:00</td>\n",
       "      <td>Double the Days, Millions of Deals: Amazon Ann...</td>\n",
       "      <td>SEATTLE, June 17, 2025--Amazon (NASDAQ: AMZN) ...</td>\n",
       "      <td>Shop some of Amazon's best deals of the season...</td>\n",
       "      <td>https://finance.yahoo.com/news/double-days-mil...</td>\n",
       "    </tr>\n",
       "    <tr>\n",
       "      <th>198</th>\n",
       "      <td>2025-06-17 12:03:00</td>\n",
       "      <td>Amazon (AMZN): Buy, Sell, or Hold Post Q1 Earn...</td>\n",
       "      <td>Over the past six months, Amazon’s shares (cur...</td>\n",
       "      <td>Over the past six months, Amazon’s shares (cur...</td>\n",
       "      <td>https://finance.yahoo.com/news/amazon-amzn-buy...</td>\n",
       "    </tr>\n",
       "  </tbody>\n",
       "</table>\n",
       "</div>"
      ],
      "text/plain": [
       "               Datetime                                           headline  \\\n",
       "194 2025-06-17 12:03:00  Buffett Wouldn't Buy AI Yet -- but These 2 Art...   \n",
       "195 2025-06-17 12:03:00  Amazon opens robotic fulfillment center in Mas...   \n",
       "196 2025-06-17 12:03:00  Amazon announces four-day Prime Day discount e...   \n",
       "197 2025-06-17 12:03:00  Double the Days, Millions of Deals: Amazon Ann...   \n",
       "198 2025-06-17 12:03:00  Amazon (AMZN): Buy, Sell, or Hold Post Q1 Earn...   \n",
       "\n",
       "                                           description  \\\n",
       "194  Buffett hasn’t been known to invest in the lat...   \n",
       "195  The nearly 3 million square-foot-facility feat...   \n",
       "196  NEW YORK (Reuters) -Amazon.com's annual Prime ...   \n",
       "197  SEATTLE, June 17, 2025--Amazon (NASDAQ: AMZN) ...   \n",
       "198  Over the past six months, Amazon’s shares (cur...   \n",
       "\n",
       "                                               article  \\\n",
       "194  Buffett hasn’t been known to invest in the lat...   \n",
       "195  This story was originally published on Supply ...   \n",
       "196  By Arriana McLymore.NEW YORK (Reuters) -Amazon...   \n",
       "197  Shop some of Amazon's best deals of the season...   \n",
       "198  Over the past six months, Amazon’s shares (cur...   \n",
       "\n",
       "                                                  link  \n",
       "194  https://finance.yahoo.com/news/buffett-wouldnt...  \n",
       "195  https://finance.yahoo.com/news/amazon-opens-ro...  \n",
       "196  https://finance.yahoo.com/news/amazon-announce...  \n",
       "197  https://finance.yahoo.com/news/double-days-mil...  \n",
       "198  https://finance.yahoo.com/news/amazon-amzn-buy...  "
      ]
     },
     "execution_count": 6,
     "metadata": {},
     "output_type": "execute_result"
    }
   ],
   "source": [
    "df_news.tail()"
   ]
  },
  {
   "cell_type": "code",
   "execution_count": 8,
   "id": "14df102e-5e27-4298-88a0-dde40a5df5c0",
   "metadata": {},
   "outputs": [],
   "source": [
    "df_news.to_csv(f\"../data/yf_news_{ticker}.csv\", index=False)"
   ]
  },
  {
   "cell_type": "code",
   "execution_count": 3,
   "id": "bb1c4896-b590-4d7f-a708-0ef1eda87c96",
   "metadata": {},
   "outputs": [],
   "source": [
    "import pandas as pd\n",
    "import sys"
   ]
  },
  {
   "cell_type": "code",
   "execution_count": 5,
   "id": "3128f42d-bb51-446a-969a-eeae7386c5cd",
   "metadata": {},
   "outputs": [],
   "source": [
    "ticker = \"AMZN\""
   ]
  },
  {
   "cell_type": "code",
   "execution_count": 6,
   "id": "0250771c-2141-463c-a062-22aa5d0d0a19",
   "metadata": {},
   "outputs": [
    {
     "data": {
      "text/html": [
       "<div>\n",
       "<style scoped>\n",
       "    .dataframe tbody tr th:only-of-type {\n",
       "        vertical-align: middle;\n",
       "    }\n",
       "\n",
       "    .dataframe tbody tr th {\n",
       "        vertical-align: top;\n",
       "    }\n",
       "\n",
       "    .dataframe thead th {\n",
       "        text-align: right;\n",
       "    }\n",
       "</style>\n",
       "<table border=\"1\" class=\"dataframe\">\n",
       "  <thead>\n",
       "    <tr style=\"text-align: right;\">\n",
       "      <th></th>\n",
       "      <th>Datetime</th>\n",
       "      <th>headline</th>\n",
       "      <th>description</th>\n",
       "      <th>article</th>\n",
       "      <th>link</th>\n",
       "    </tr>\n",
       "  </thead>\n",
       "  <tbody>\n",
       "    <tr>\n",
       "      <th>0</th>\n",
       "      <td>2025-06-17 12:03:00</td>\n",
       "      <td>Stock-Split Watch: Is This AI Stock That's Soa...</td>\n",
       "      <td>Only one \"Magnificent Seven\" company hasn’t ye...</td>\n",
       "      <td>Only one \"Magnificent Seven\" company hasn’t ye...</td>\n",
       "      <td>https://finance.yahoo.com/news/stock-split-wat...</td>\n",
       "    </tr>\n",
       "    <tr>\n",
       "      <th>1</th>\n",
       "      <td>2025-06-17 12:03:00</td>\n",
       "      <td>Amazon to invest £40 billion in U.K. over next...</td>\n",
       "      <td>Investing.com -- Amazon.com Inc (NASDAQ:AMZN) ...</td>\n",
       "      <td>Investing.com -- Amazon.com Inc (NASDAQ:AMZN) ...</td>\n",
       "      <td>https://finance.yahoo.com/news/amazon-invest-4...</td>\n",
       "    </tr>\n",
       "    <tr>\n",
       "      <th>2</th>\n",
       "      <td>2025-06-17 12:03:00</td>\n",
       "      <td>Amazon to Invest Around $54 Billion in U.K. to...</td>\n",
       "      <td>The plan also includes the creation of four ne...</td>\n",
       "      <td>The plan also includes the creation of four ne...</td>\n",
       "      <td>https://finance.yahoo.com/m/bfe50230-ddb5-3167...</td>\n",
       "    </tr>\n",
       "    <tr>\n",
       "      <th>3</th>\n",
       "      <td>2025-06-17 12:03:00</td>\n",
       "      <td>Amazon to invest $54 billion in Britain over n...</td>\n",
       "      <td>LONDON (Reuters) -Amazon has deepened its comm...</td>\n",
       "      <td>By James Davey.LONDON (Reuters) -Amazon has de...</td>\n",
       "      <td>https://finance.yahoo.com/news/amazon-invest-5...</td>\n",
       "    </tr>\n",
       "    <tr>\n",
       "      <th>4</th>\n",
       "      <td>2025-06-17 12:03:00</td>\n",
       "      <td>Amazon’s new UK warehouses to hire thousands a...</td>\n",
       "      <td>Prime Minister Sir Keir Starmer hailed the exp...</td>\n",
       "      <td>Amazon has said thousands of jobs will be crea...</td>\n",
       "      <td>https://finance.yahoo.com/news/amazon-uk-wareh...</td>\n",
       "    </tr>\n",
       "  </tbody>\n",
       "</table>\n",
       "</div>"
      ],
      "text/plain": [
       "              Datetime                                           headline  \\\n",
       "0  2025-06-17 12:03:00  Stock-Split Watch: Is This AI Stock That's Soa...   \n",
       "1  2025-06-17 12:03:00  Amazon to invest £40 billion in U.K. over next...   \n",
       "2  2025-06-17 12:03:00  Amazon to Invest Around $54 Billion in U.K. to...   \n",
       "3  2025-06-17 12:03:00  Amazon to invest $54 billion in Britain over n...   \n",
       "4  2025-06-17 12:03:00  Amazon’s new UK warehouses to hire thousands a...   \n",
       "\n",
       "                                         description  \\\n",
       "0  Only one \"Magnificent Seven\" company hasn’t ye...   \n",
       "1  Investing.com -- Amazon.com Inc (NASDAQ:AMZN) ...   \n",
       "2  The plan also includes the creation of four ne...   \n",
       "3  LONDON (Reuters) -Amazon has deepened its comm...   \n",
       "4  Prime Minister Sir Keir Starmer hailed the exp...   \n",
       "\n",
       "                                             article  \\\n",
       "0  Only one \"Magnificent Seven\" company hasn’t ye...   \n",
       "1  Investing.com -- Amazon.com Inc (NASDAQ:AMZN) ...   \n",
       "2  The plan also includes the creation of four ne...   \n",
       "3  By James Davey.LONDON (Reuters) -Amazon has de...   \n",
       "4  Amazon has said thousands of jobs will be crea...   \n",
       "\n",
       "                                                link  \n",
       "0  https://finance.yahoo.com/news/stock-split-wat...  \n",
       "1  https://finance.yahoo.com/news/amazon-invest-4...  \n",
       "2  https://finance.yahoo.com/m/bfe50230-ddb5-3167...  \n",
       "3  https://finance.yahoo.com/news/amazon-invest-5...  \n",
       "4  https://finance.yahoo.com/news/amazon-uk-wareh...  "
      ]
     },
     "execution_count": 6,
     "metadata": {},
     "output_type": "execute_result"
    }
   ],
   "source": [
    "df_news = pd.read_csv(f\"../data/yf_news_{ticker}.csv\")\n",
    "df_news.head()"
   ]
  },
  {
   "cell_type": "code",
   "execution_count": 8,
   "id": "08c8b44f-e2e1-4d43-adb3-6009892f3adb",
   "metadata": {},
   "outputs": [
    {
     "name": "stdout",
     "output_type": "stream",
     "text": [
      "198 processing: Amazon (AMZN): Buy, Sell, or Hold Post Q1 Earnings?                                                                                            "
     ]
    }
   ],
   "source": [
    "analysis = []\n",
    "print_str = ' '\n",
    "for i, (headline, description) in enumerate(zip(df_news['headline'], df_news['description'])):\n",
    "    sys.stdout.flush()\n",
    "    print_str = '\\r' + ''.join([' ' for i in range(len(print_str))])\n",
    "    sys.stdout.write(print_str)\n",
    "\n",
    "    sys.stdout.flush()\n",
    "    print_str = f'\\r{i} processing: {headline}'\n",
    "    sys.stdout.write(print_str)\n",
    "    \n",
    "    # risk_analysis = deepseek_labling(headline, description)\n",
    "\n",
    "    # analysis.append(risk_analysis)"
   ]
  },
  {
   "cell_type": "code",
   "execution_count": null,
   "id": "1dad54b1-87fc-42c0-bc10-ab7dc3ed1dfd",
   "metadata": {},
   "outputs": [],
   "source": []
  }
 ],
 "metadata": {
  "kernelspec": {
   "display_name": "Python 3 (ipykernel)",
   "language": "python",
   "name": "python3"
  },
  "language_info": {
   "codemirror_mode": {
    "name": "ipython",
    "version": 3
   },
   "file_extension": ".py",
   "mimetype": "text/x-python",
   "name": "python",
   "nbconvert_exporter": "python",
   "pygments_lexer": "ipython3",
   "version": "3.10.16"
  }
 },
 "nbformat": 4,
 "nbformat_minor": 5
}
