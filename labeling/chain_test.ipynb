{
 "cells": [
  {
   "cell_type": "code",
   "execution_count": 2,
   "id": "b8f75abd-9830-41d1-a984-0d7fc96bd66e",
   "metadata": {},
   "outputs": [],
   "source": [
    "import os, sys\n",
    "import pandas as pd\n",
    "from deepseek_chain import llm_labling"
   ]
  },
  {
   "cell_type": "code",
   "execution_count": 3,
   "id": "992bdccb-07d1-4b63-833a-a76651f8e05f",
   "metadata": {},
   "outputs": [
    {
     "data": {
      "text/plain": [
       "['../data/yf_news_AAPL.csv',\n",
       " '../data/yf_news_AMZN.csv',\n",
       " '../data/yf_news_BA.csv',\n",
       " '../data/yf_news_BABA.csv',\n",
       " '../data/yf_news_BIDU.csv',\n",
       " '../data/yf_news_COIN.csv',\n",
       " '../data/yf_news_CVX.csv',\n",
       " '../data/yf_news_DAL.csv',\n",
       " '../data/yf_news_DE.csv',\n",
       " '../data/yf_news_F.csv',\n",
       " '../data/yf_news_GM.csv',\n",
       " '../data/yf_news_GOOG.csv',\n",
       " '../data/yf_news_GOOGL.csv',\n",
       " '../data/yf_news_HD.csv',\n",
       " '../data/yf_news_LVS.csv',\n",
       " '../data/yf_news_META.csv',\n",
       " '../data/yf_news_MSFT.csv',\n",
       " '../data/yf_news_NIO.csv',\n",
       " '../data/yf_news_NVDA.csv',\n",
       " '../data/yf_news_PYPL.csv',\n",
       " '../data/yf_news_RIVN.csv',\n",
       " '../data/yf_news_SHEL.csv',\n",
       " '../data/yf_news_TGT.csv',\n",
       " '../data/yf_news_TSLA.csv',\n",
       " '../data/yf_news_TSM.csv']"
      ]
     },
     "execution_count": 3,
     "metadata": {},
     "output_type": "execute_result"
    }
   ],
   "source": [
    "news_files = []\n",
    "for file in os.listdir('../data/'):\n",
    "    if file.endswith('.csv'):\n",
    "        news_files.append(os.path.join('../data/' ,file))\n",
    "    if os.path.isfile('../data/labeled/' + file):\n",
    "        continue\n",
    "news_files"
   ]
  },
  {
   "cell_type": "code",
   "execution_count": null,
   "id": "496a4ed6-1f20-444d-9b5b-227c0754ce05",
   "metadata": {},
   "outputs": [],
   "source": [
    "file_id = 2\n",
    "news_files[file_id]"
   ]
  },
  {
   "cell_type": "code",
   "execution_count": 23,
   "id": "59fd949e-f5e6-41af-9266-f56e31a034ee",
   "metadata": {},
   "outputs": [
    {
     "data": {
      "text/html": [
       "<div>\n",
       "<style scoped>\n",
       "    .dataframe tbody tr th:only-of-type {\n",
       "        vertical-align: middle;\n",
       "    }\n",
       "\n",
       "    .dataframe tbody tr th {\n",
       "        vertical-align: top;\n",
       "    }\n",
       "\n",
       "    .dataframe thead th {\n",
       "        text-align: right;\n",
       "    }\n",
       "</style>\n",
       "<table border=\"1\" class=\"dataframe\">\n",
       "  <thead>\n",
       "    <tr style=\"text-align: right;\">\n",
       "      <th></th>\n",
       "      <th>Datetime</th>\n",
       "      <th>headline</th>\n",
       "      <th>description</th>\n",
       "      <th>article</th>\n",
       "      <th>link</th>\n",
       "    </tr>\n",
       "  </thead>\n",
       "  <tbody>\n",
       "    <tr>\n",
       "      <th>195</th>\n",
       "      <td>2025-06-07 03:49:00</td>\n",
       "      <td>Boeing prepares to resume plane deliveries to ...</td>\n",
       "      <td>SEATTLE (Reuters) -A new Boeing 737 MAX painte...</td>\n",
       "      <td>By Lisa Barrington and Dan Catchpole.SEATTLE (...</td>\n",
       "      <td>https://finance.yahoo.com/news/boeing-prepares...</td>\n",
       "    </tr>\n",
       "    <tr>\n",
       "      <th>196</th>\n",
       "      <td>2025-06-06 21:00:00</td>\n",
       "      <td>RTX Shines Bright Under Defense Spotlight: Wha...</td>\n",
       "      <td>RTX lands multi-million-dollar defense contrac...</td>\n",
       "      <td>U.S.-based RTX Corp. RTX, a leading defense co...</td>\n",
       "      <td>https://finance.yahoo.com/news/rtx-shines-brig...</td>\n",
       "    </tr>\n",
       "    <tr>\n",
       "      <th>197</th>\n",
       "      <td>2025-06-06 20:18:00</td>\n",
       "      <td>Rocket Lab's Launch Services Soar as Commercia...</td>\n",
       "      <td>RKLB secures major launch deals and ramps up m...</td>\n",
       "      <td>Space company, Rocket Lab USA, Inc. RKLB, rece...</td>\n",
       "      <td>https://finance.yahoo.com/news/rocket-labs-lau...</td>\n",
       "    </tr>\n",
       "    <tr>\n",
       "      <th>198</th>\n",
       "      <td>2025-06-06 20:06:00</td>\n",
       "      <td>Virgin Galactic stock jumps on SpaceX competit...</td>\n",
       "      <td>Investing.com -- Shares of Virgin Galactic (NY...</td>\n",
       "      <td>Investing.com -- Shares of Virgin Galactic (NY...</td>\n",
       "      <td>https://finance.yahoo.com/news/virgin-galactic...</td>\n",
       "    </tr>\n",
       "    <tr>\n",
       "      <th>199</th>\n",
       "      <td>2025-06-06 17:03:00</td>\n",
       "      <td>Jacobs to provide services for Boeing’s St. Lo...</td>\n",
       "      <td>Site construction is forecast to be completed ...</td>\n",
       "      <td>Jacobs has secured a contract to offer design,...</td>\n",
       "      <td>https://finance.yahoo.com/news/jacobs-services...</td>\n",
       "    </tr>\n",
       "  </tbody>\n",
       "</table>\n",
       "</div>"
      ],
      "text/plain": [
       "                Datetime                                           headline  \\\n",
       "195  2025-06-07 03:49:00  Boeing prepares to resume plane deliveries to ...   \n",
       "196  2025-06-06 21:00:00  RTX Shines Bright Under Defense Spotlight: Wha...   \n",
       "197  2025-06-06 20:18:00  Rocket Lab's Launch Services Soar as Commercia...   \n",
       "198  2025-06-06 20:06:00  Virgin Galactic stock jumps on SpaceX competit...   \n",
       "199  2025-06-06 17:03:00  Jacobs to provide services for Boeing’s St. Lo...   \n",
       "\n",
       "                                           description  \\\n",
       "195  SEATTLE (Reuters) -A new Boeing 737 MAX painte...   \n",
       "196  RTX lands multi-million-dollar defense contrac...   \n",
       "197  RKLB secures major launch deals and ramps up m...   \n",
       "198  Investing.com -- Shares of Virgin Galactic (NY...   \n",
       "199  Site construction is forecast to be completed ...   \n",
       "\n",
       "                                               article  \\\n",
       "195  By Lisa Barrington and Dan Catchpole.SEATTLE (...   \n",
       "196  U.S.-based RTX Corp. RTX, a leading defense co...   \n",
       "197  Space company, Rocket Lab USA, Inc. RKLB, rece...   \n",
       "198  Investing.com -- Shares of Virgin Galactic (NY...   \n",
       "199  Jacobs has secured a contract to offer design,...   \n",
       "\n",
       "                                                  link  \n",
       "195  https://finance.yahoo.com/news/boeing-prepares...  \n",
       "196  https://finance.yahoo.com/news/rtx-shines-brig...  \n",
       "197  https://finance.yahoo.com/news/rocket-labs-lau...  \n",
       "198  https://finance.yahoo.com/news/virgin-galactic...  \n",
       "199  https://finance.yahoo.com/news/jacobs-services...  "
      ]
     },
     "execution_count": 23,
     "metadata": {},
     "output_type": "execute_result"
    }
   ],
   "source": [
    "df_news = pd.read_csv(news_files[file_id])\n",
    "df_news.tail()"
   ]
  },
  {
   "cell_type": "code",
   "execution_count": 24,
   "id": "bde0acee-5995-451b-b829-f92832ee6ef3",
   "metadata": {},
   "outputs": [
    {
     "name": "stdout",
     "output_type": "stream",
     "text": [
      "total news: 200\n",
      "\n",
      "199 processing: Jacobs to provide services for Boeing’s St. Louis expansion                                                                                                  "
     ]
    }
   ],
   "source": [
    "analysis = []\n",
    "print_str = ' '\n",
    "print(f\"total news: {len(df_news)}\\n\")\n",
    "for i, (headline, description) in enumerate(zip(df_news['headline'], df_news['description'])):\n",
    "    sys.stdout.flush()\n",
    "    print_str = '\\r' + ''.join([' ' for i in range(len(print_str))])\n",
    "    sys.stdout.write(print_str)\n",
    "\n",
    "    sys.stdout.flush()\n",
    "    print_str = f'\\r{i} processing: {headline}'\n",
    "    sys.stdout.write(print_str)\n",
    "    \n",
    "    risk_analysis = deepseek_labling(headline, description)\n",
    "\n",
    "    analysis.append(risk_analysis)"
   ]
  },
  {
   "cell_type": "code",
   "execution_count": 25,
   "id": "29d93dd0-d63e-4652-9274-84fcf8dfa9b3",
   "metadata": {},
   "outputs": [],
   "source": [
    "df_news['analysis'] = analysis"
   ]
  },
  {
   "cell_type": "code",
   "execution_count": 26,
   "id": "178abf22-96ec-459f-939c-419e7f6c3a12",
   "metadata": {},
   "outputs": [],
   "source": [
    "df_news.to_csv('../data/labeled/' + news_files[file_id].split('/')[-1], index=False)"
   ]
  },
  {
   "cell_type": "code",
   "execution_count": 27,
   "id": "d392dce8-20b0-4cda-8911-db39b03178f7",
   "metadata": {},
   "outputs": [
    {
     "data": {
      "text/plain": [
       "'yf_news_BA.csv'"
      ]
     },
     "execution_count": 27,
     "metadata": {},
     "output_type": "execute_result"
    }
   ],
   "source": [
    "news_files[file_id].split('/')[-1]"
   ]
  },
  {
   "cell_type": "code",
   "execution_count": null,
   "id": "5340867d-b7c7-4ac0-8bde-88262ce0fc2b",
   "metadata": {},
   "outputs": [],
   "source": []
  },
  {
   "cell_type": "code",
   "execution_count": null,
   "id": "b2448f79-6647-4bec-997d-6ce25babbf16",
   "metadata": {},
   "outputs": [],
   "source": []
  },
  {
   "cell_type": "code",
   "execution_count": 6,
   "id": "a4142d1d-7bf3-4bc5-92d4-d245476a5e3e",
   "metadata": {},
   "outputs": [
    {
     "name": "stdout",
     "output_type": "stream",
     "text": [
      "0 - processing: yf_news_AAPL.csv\n",
      "total news: 198\n",
      "197 processing: Apple (AAPL) Gets $235 Price Target from Morgan Stanley After China iPhone Demand Surprises                                                              \n",
      "----------------------------------------------------------\n",
      "\n",
      "1 - processing: yf_news_AMZN.csv\n",
      "total news: 198\n",
      "197 processing: Amazon to invest $233M to enhance its India infrastructure                                                                                                   \n",
      "----------------------------------------------------------\n",
      "\n",
      "2 - processing: yf_news_BA.csv\n",
      "total news: 200\n",
      "199 processing: Boeing to Focus on Customers, Innovation and Partnership at Paris Air Show 2025                                                                                       \n",
      "----------------------------------------------------------\n",
      "\n",
      "3 - processing: yf_news_BABA.csv\n",
      "total news: 199\n",
      "198 processing: Alibaba Group Holding Limited (BABA): Among Most Popular Stocks on Robinhood in 2025                                                                  \n",
      "----------------------------------------------------------\n",
      "\n",
      "4 - processing: yf_news_BIDU.csv\n",
      "total news: 200\n",
      "199 processing: Mag 7 vs. the Terrific 10: China's tech stocks outperform                                                                   \n",
      "----------------------------------------------------------\n",
      "\n",
      "5 - processing: yf_news_COIN.csv\n",
      "total news: 196\n",
      "195 processing: Circle Shares Surge on NYSE Debut, Signalling Strong Appetite for Stablecoin Issuers                                                        \n",
      "----------------------------------------------------------\n",
      "\n",
      "6 - processing: yf_news_CVX.csv\n",
      "total news: 200\n",
      "199 processing: Near a 52-Week Low, Here's Why This 4.8%-Yielding Dividend Stock Is a Top Buy for Passive Income                                         \n",
      "----------------------------------------------------------\n",
      "\n",
      "7 - processing: yf_news_DAL.csv\n",
      "total news: 200\n",
      "199 processing: Airline stocks get a nasty dose of wind shear                                                                                                                                                                    \n",
      "----------------------------------------------------------\n",
      "\n",
      "8 - processing: yf_news_DE.csv\n",
      "total news: 200\n",
      "199 processing: Empowering Farmers Through Innovation: John Deere Expands Self-Repair Solutions, Furthering Farmer Independence           \n",
      "----------------------------------------------------------\n",
      "\n",
      "9 - processing: yf_news_F.csv\n",
      "total news: 200\n",
      "199 processing: Toyota Stock Is Falling. Earnings Held a Big Surprise.                                                                                                           \n",
      "----------------------------------------------------------\n",
      "\n",
      "10 - processing: yf_news_GM.csv\n",
      "total news: 200\n",
      "199 processing: GM CEO Mary Barra: Tariffs will cost us $5 billion, and prices ‘will stay at the same level’                                                         \n",
      "----------------------------------------------------------\n",
      "\n",
      "11 - processing: yf_news_GOOG.csv\n",
      "total news: 198\n",
      "197 processing: Google Search Is Fading. The Whole Internet Is At Risk.                                                                                                                      \n",
      "----------------------------------------------------------\n",
      "\n",
      "12 - processing: yf_news_GOOGL.csv\n",
      "total news: 198\n",
      "197 processing: VW to sell ID. Buzz robotaxis next year, taking on Tesla and Waymo                                                                           \n",
      "----------------------------------------------------------\n",
      "\n",
      "13 - processing: yf_news_HD.csv\n",
      "total news: 200\n",
      "199 processing: Is The Home Depot, Inc. (HD) the Best Dow Stock?                                                                             \n",
      "----------------------------------------------------------\n",
      "\n",
      "14 - processing: yf_news_LVS.csv\n",
      "total news: 109\n",
      "108 processing: Jefferies shuffles rating on gaming stocks                                                                                                \n",
      "----------------------------------------------------------\n",
      "\n",
      "15 - processing: yf_news_META.csv\n",
      "total news: 198\n",
      "197 processing: Why the UK's AIM is struggling 30 years on                                                                                                                              \n",
      "----------------------------------------------------------\n",
      "\n",
      "16 - processing: yf_news_MSFT.csv\n",
      "total news: 198\n",
      "197 processing: 3 Stocks to Profit From the Upcoming Nuclear Power Boom                                                                                                                                       \n",
      "----------------------------------------------------------\n",
      "\n",
      "17 - processing: yf_news_NIO.csv\n",
      "total news: 200\n",
      "199 processing: Zacks Market Edge Highlights: Red Cat, Barrick Gold, Arista Networks, Nio and Apple                                                \n",
      "----------------------------------------------------------\n",
      "\n",
      "18 - processing: yf_news_NVDA.csv\n",
      "total news: 193\n",
      "192 processing: Billionaire Insiders Just Cashed Out of Nvidia-- Is This the Top?                                                                                                  \n",
      "----------------------------------------------------------\n",
      "\n",
      "19 - processing: yf_news_PYPL.csv\n",
      "total news: 199\n",
      "198 processing: Analysts Estimate Paypal (PYPL) to Report a Decline in Earnings: What to Look Out for                                                       \n",
      "----------------------------------------------------------\n",
      "\n",
      "20 - processing: yf_news_RIVN.csv\n",
      "total news: 200\n",
      "199 processing: Trump Tariffs’ Pain Could Be These Stocks’ Gain                                                                                                    \n",
      "----------------------------------------------------------\n",
      "\n",
      "21 - processing: yf_news_SHEL.csv\n",
      "total news: 199\n",
      "198 processing: Brookfield Buys Oil-Pipeline Firm Colonial Enterprises for $9 Billion                                                                   \n",
      "----------------------------------------------------------\n",
      "\n",
      "22 - processing: yf_news_TGT.csv\n",
      "total news: 199\n",
      "198 processing: How Should Investors Approach Walmart Stock Post Q1 Earnings?                                                                                \n",
      "----------------------------------------------------------\n",
      "\n",
      "23 - processing: yf_news_TSLA.csv\n",
      "total news: 197\n",
      "196 processing: Tesla robotaxi finally launches but hiccups include long wait times, Pokemon-style hunts for the car, and even driving in wrong lane              \n",
      "----------------------------------------------------------\n",
      "\n",
      "24 - processing: yf_news_TSM.csv\n",
      "total news: 199\n",
      "198 processing: Investors Heavily Search Taiwan Semiconductor Manufacturing Company Ltd. (TSM): Here is What You Need to Know                                                                                   \n",
      "----------------------------------------------------------\n",
      "\n"
     ]
    }
   ],
   "source": [
    "for file_id in range(len(news_files)):\n",
    "    print(f\"{file_id} - processing: {news_files[file_id].split('/')[-1]}\")\n",
    "    df_news = pd.read_csv(news_files[file_id])\n",
    "\n",
    "    analysis = []\n",
    "    print_str = ' '\n",
    "    print(f\"total news: {len(df_news)}\")\n",
    "    for i, (headline, description) in enumerate(zip(df_news['headline'], df_news['description'])):\n",
    "        sys.stdout.flush()\n",
    "        print_str = '\\r' + ''.join([' ' for i in range(len(print_str))])\n",
    "        sys.stdout.write(print_str)\n",
    "    \n",
    "        sys.stdout.flush()\n",
    "        print_str = f'\\r{i} processing: {headline}'\n",
    "        sys.stdout.write(print_str)\n",
    "        \n",
    "        risk_analysis = llm_labling(headline, description)\n",
    "    \n",
    "        analysis.append(risk_analysis)\n",
    "    df_news['analysis'] = analysis\n",
    "    df_news.to_csv('../data/labeled/' + news_files[file_id].split('/')[-1], index=False)\n",
    "    print(\"\\n----------------------------------------------------------\\n\")"
   ]
  },
  {
   "cell_type": "code",
   "execution_count": 9,
   "id": "d9bdf5ce-5946-458c-aca2-1427923b00d5",
   "metadata": {},
   "outputs": [
    {
     "data": {
      "text/plain": [
       "' The type of risk associated with this news is **market or general investment risk**, specifically the potential for a stock pullback despite strong recent performance. The overbought condition suggests that there may be a correction in the stock price, which could lead to a loss of value before future gains materialize. Investors should consider this risk when deciding whether to buy now, as it involves the possibility of a downward movement before another upward trend begins.'"
      ]
     },
     "execution_count": 9,
     "metadata": {},
     "output_type": "execute_result"
    }
   ],
   "source": [
    "risk_analysis"
   ]
  }
 ],
 "metadata": {
  "kernelspec": {
   "display_name": "Python 3 (ipykernel)",
   "language": "python",
   "name": "python3"
  },
  "language_info": {
   "codemirror_mode": {
    "name": "ipython",
    "version": 3
   },
   "file_extension": ".py",
   "mimetype": "text/x-python",
   "name": "python",
   "nbconvert_exporter": "python",
   "pygments_lexer": "ipython3",
   "version": "3.10.16"
  }
 },
 "nbformat": 4,
 "nbformat_minor": 5
}
