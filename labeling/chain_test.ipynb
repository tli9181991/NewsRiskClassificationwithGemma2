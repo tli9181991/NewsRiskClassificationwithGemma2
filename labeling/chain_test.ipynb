{
 "cells": [
  {
   "cell_type": "code",
   "execution_count": 9,
   "id": "b8f75abd-9830-41d1-a984-0d7fc96bd66e",
   "metadata": {},
   "outputs": [],
   "source": [
    "import os, sys\n",
    "import pandas as pd\n",
    "from deepseek_chain import deepseek_labling"
   ]
  },
  {
   "cell_type": "code",
   "execution_count": 10,
   "id": "992bdccb-07d1-4b63-833a-a76651f8e05f",
   "metadata": {},
   "outputs": [
    {
     "data": {
      "text/plain": [
       "['../data/yf_news_AAPL.csv',\n",
       " '../data/yf_news_AMZN.csv',\n",
       " '../data/yf_news_GOOG.csv',\n",
       " '../data/yf_news_META.csv',\n",
       " '../data/yf_news_MSFT.csv',\n",
       " '../data/yf_news_NVDA.csv',\n",
       " '../data/yf_news_TSLA.csv']"
      ]
     },
     "execution_count": 10,
     "metadata": {},
     "output_type": "execute_result"
    }
   ],
   "source": [
    "news_files = []\n",
    "for file in os.listdir('../data/'):\n",
    "    if file.endswith('.csv'):\n",
    "        news_files.append(os.path.join('../data/' ,file))\n",
    "news_files"
   ]
  },
  {
   "cell_type": "code",
   "execution_count": 13,
   "id": "496a4ed6-1f20-444d-9b5b-227c0754ce05",
   "metadata": {},
   "outputs": [
    {
     "data": {
      "text/plain": [
       "'../data/yf_news_MSFT.csv'"
      ]
     },
     "execution_count": 13,
     "metadata": {},
     "output_type": "execute_result"
    }
   ],
   "source": [
    "file_id = 4\n",
    "news_files[file_id]"
   ]
  },
  {
   "cell_type": "code",
   "execution_count": 14,
   "id": "59fd949e-f5e6-41af-9266-f56e31a034ee",
   "metadata": {},
   "outputs": [
    {
     "data": {
      "text/html": [
       "<div>\n",
       "<style scoped>\n",
       "    .dataframe tbody tr th:only-of-type {\n",
       "        vertical-align: middle;\n",
       "    }\n",
       "\n",
       "    .dataframe tbody tr th {\n",
       "        vertical-align: top;\n",
       "    }\n",
       "\n",
       "    .dataframe thead th {\n",
       "        text-align: right;\n",
       "    }\n",
       "</style>\n",
       "<table border=\"1\" class=\"dataframe\">\n",
       "  <thead>\n",
       "    <tr style=\"text-align: right;\">\n",
       "      <th></th>\n",
       "      <th>Datetime</th>\n",
       "      <th>headline</th>\n",
       "      <th>description</th>\n",
       "      <th>article</th>\n",
       "      <th>link</th>\n",
       "    </tr>\n",
       "  </thead>\n",
       "  <tbody>\n",
       "    <tr>\n",
       "      <th>195</th>\n",
       "      <td>2025-06-19 04:03:00</td>\n",
       "      <td>Amazon CEO Andy Jassy says company will cut jo...</td>\n",
       "      <td>Amazon CEO Andy Jassy said the company will re...</td>\n",
       "      <td>Amazon (AMZN) CEO Andy Jassy said the company ...</td>\n",
       "      <td>https://finance.yahoo.com/news/amazon-ceo-andy...</td>\n",
       "    </tr>\n",
       "    <tr>\n",
       "      <th>196</th>\n",
       "      <td>2025-06-19 04:03:00</td>\n",
       "      <td>Microsoft Stock Just Hit a Fresh High; Company...</td>\n",
       "      <td>Microsoft is reportedly planning to trim thous...</td>\n",
       "      <td>Erik McGregor / Contributor / Getty Images.Mic...</td>\n",
       "      <td>https://finance.yahoo.com/news/microsoft-stock...</td>\n",
       "    </tr>\n",
       "    <tr>\n",
       "      <th>197</th>\n",
       "      <td>2025-06-19 04:03:00</td>\n",
       "      <td>Microsoft Plans to Cut Thousands More Employees</td>\n",
       "      <td>A new round of workforce cuts at the Redmond, ...</td>\n",
       "      <td>A new round of workforce cuts at the Redmond, ...</td>\n",
       "      <td>https://finance.yahoo.com/m/314896d5-1469-3bf9...</td>\n",
       "    </tr>\n",
       "    <tr>\n",
       "      <th>198</th>\n",
       "      <td>2025-06-19 04:03:00</td>\n",
       "      <td>Microsoft's reported job cuts &amp; OpenAI beef: W...</td>\n",
       "      <td>Microsoft (MSFT) is reportedly planning to cut...</td>\n",
       "      <td>Microsoft (MSFT) is reportedly planning to cut...</td>\n",
       "      <td>https://finance.yahoo.com/video/microsofts-rep...</td>\n",
       "    </tr>\n",
       "    <tr>\n",
       "      <th>199</th>\n",
       "      <td>2025-06-19 04:03:00</td>\n",
       "      <td>Microsoft prepared to abandon high-stakes talk...</td>\n",
       "      <td>The tech giant has considered pausing discussi...</td>\n",
       "      <td>(Reuters) -Microsoft is prepared to abandon it...</td>\n",
       "      <td>https://finance.yahoo.com/news/microsoft-prepa...</td>\n",
       "    </tr>\n",
       "  </tbody>\n",
       "</table>\n",
       "</div>"
      ],
      "text/plain": [
       "                Datetime                                           headline  \\\n",
       "195  2025-06-19 04:03:00  Amazon CEO Andy Jassy says company will cut jo...   \n",
       "196  2025-06-19 04:03:00  Microsoft Stock Just Hit a Fresh High; Company...   \n",
       "197  2025-06-19 04:03:00    Microsoft Plans to Cut Thousands More Employees   \n",
       "198  2025-06-19 04:03:00  Microsoft's reported job cuts & OpenAI beef: W...   \n",
       "199  2025-06-19 04:03:00  Microsoft prepared to abandon high-stakes talk...   \n",
       "\n",
       "                                           description  \\\n",
       "195  Amazon CEO Andy Jassy said the company will re...   \n",
       "196  Microsoft is reportedly planning to trim thous...   \n",
       "197  A new round of workforce cuts at the Redmond, ...   \n",
       "198  Microsoft (MSFT) is reportedly planning to cut...   \n",
       "199  The tech giant has considered pausing discussi...   \n",
       "\n",
       "                                               article  \\\n",
       "195  Amazon (AMZN) CEO Andy Jassy said the company ...   \n",
       "196  Erik McGregor / Contributor / Getty Images.Mic...   \n",
       "197  A new round of workforce cuts at the Redmond, ...   \n",
       "198  Microsoft (MSFT) is reportedly planning to cut...   \n",
       "199  (Reuters) -Microsoft is prepared to abandon it...   \n",
       "\n",
       "                                                  link  \n",
       "195  https://finance.yahoo.com/news/amazon-ceo-andy...  \n",
       "196  https://finance.yahoo.com/news/microsoft-stock...  \n",
       "197  https://finance.yahoo.com/m/314896d5-1469-3bf9...  \n",
       "198  https://finance.yahoo.com/video/microsofts-rep...  \n",
       "199  https://finance.yahoo.com/news/microsoft-prepa...  "
      ]
     },
     "execution_count": 14,
     "metadata": {},
     "output_type": "execute_result"
    }
   ],
   "source": [
    "df_news = pd.read_csv(news_files[file_id])\n",
    "df_news.tail()"
   ]
  },
  {
   "cell_type": "code",
   "execution_count": 15,
   "id": "bde0acee-5995-451b-b829-f92832ee6ef3",
   "metadata": {},
   "outputs": [
    {
     "name": "stdout",
     "output_type": "stream",
     "text": [
      "total news: 200\n",
      "\n",
      "199 processing: Microsoft prepared to abandon high-stakes talks with OpenAI, FT reports                                                                                                                                 "
     ]
    }
   ],
   "source": [
    "analysis = []\n",
    "print_str = ' '\n",
    "print(f\"total news: {len(df_news)}\\n\")\n",
    "for i, (headline, description) in enumerate(zip(df_news['headline'], df_news['description'])):\n",
    "    sys.stdout.flush()\n",
    "    print_str = '\\r' + ''.join([' ' for i in range(len(print_str))])\n",
    "    sys.stdout.write(print_str)\n",
    "\n",
    "    sys.stdout.flush()\n",
    "    print_str = f'\\r{i} processing: {headline}'\n",
    "    sys.stdout.write(print_str)\n",
    "    \n",
    "    risk_analysis = deepseek_labling(headline, description)\n",
    "\n",
    "    analysis.append(risk_analysis)"
   ]
  },
  {
   "cell_type": "code",
   "execution_count": 16,
   "id": "29d93dd0-d63e-4652-9274-84fcf8dfa9b3",
   "metadata": {},
   "outputs": [],
   "source": [
    "df_news['analysis'] = analysis"
   ]
  },
  {
   "cell_type": "code",
   "execution_count": 17,
   "id": "178abf22-96ec-459f-939c-419e7f6c3a12",
   "metadata": {},
   "outputs": [],
   "source": [
    "df_news.to_csv('../data/labeled/' + news_files[file_id].split('/')[-1], index=False)"
   ]
  },
  {
   "cell_type": "code",
   "execution_count": 18,
   "id": "d392dce8-20b0-4cda-8911-db39b03178f7",
   "metadata": {},
   "outputs": [
    {
     "data": {
      "text/plain": [
       "'yf_news_MSFT.csv'"
      ]
     },
     "execution_count": 18,
     "metadata": {},
     "output_type": "execute_result"
    }
   ],
   "source": [
    "news_files[file_id].split('/')[-1]"
   ]
  },
  {
   "cell_type": "code",
   "execution_count": null,
   "id": "5340867d-b7c7-4ac0-8bde-88262ce0fc2b",
   "metadata": {},
   "outputs": [],
   "source": []
  }
 ],
 "metadata": {
  "kernelspec": {
   "display_name": "Python 3 (ipykernel)",
   "language": "python",
   "name": "python3"
  },
  "language_info": {
   "codemirror_mode": {
    "name": "ipython",
    "version": 3
   },
   "file_extension": ".py",
   "mimetype": "text/x-python",
   "name": "python",
   "nbconvert_exporter": "python",
   "pygments_lexer": "ipython3",
   "version": "3.10.16"
  }
 },
 "nbformat": 4,
 "nbformat_minor": 5
}
