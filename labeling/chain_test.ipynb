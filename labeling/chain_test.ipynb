{
 "cells": [
  {
   "cell_type": "code",
   "execution_count": 1,
   "id": "b8f75abd-9830-41d1-a984-0d7fc96bd66e",
   "metadata": {},
   "outputs": [],
   "source": [
    "import os, sys\n",
    "import pandas as pd\n",
    "from deepseek_chain import deepseek_labling"
   ]
  },
  {
   "cell_type": "code",
   "execution_count": 2,
   "id": "992bdccb-07d1-4b63-833a-a76651f8e05f",
   "metadata": {},
   "outputs": [
    {
     "data": {
      "text/plain": [
       "['../data/yf_news_AAPL.csv',\n",
       " '../data/yf_news_AMZN.csv',\n",
       " '../data/yf_news_BA.csv',\n",
       " '../data/yf_news_BABA.csv',\n",
       " '../data/yf_news_BIDU.csv',\n",
       " '../data/yf_news_COIN.csv',\n",
       " '../data/yf_news_CVX.csv',\n",
       " '../data/yf_news_DAL.csv',\n",
       " '../data/yf_news_DE.csv',\n",
       " '../data/yf_news_F.csv',\n",
       " '../data/yf_news_GM.csv',\n",
       " '../data/yf_news_GOOG.csv',\n",
       " '../data/yf_news_GOOGL.csv',\n",
       " '../data/yf_news_HD.csv',\n",
       " '../data/yf_news_LVS.csv',\n",
       " '../data/yf_news_META.csv',\n",
       " '../data/yf_news_MSFT.csv',\n",
       " '../data/yf_news_NIO.csv',\n",
       " '../data/yf_news_NVDA.csv',\n",
       " '../data/yf_news_PYPL.csv',\n",
       " '../data/yf_news_RIVN.csv',\n",
       " '../data/yf_news_SHEL.csv',\n",
       " '../data/yf_news_TGT.csv',\n",
       " '../data/yf_news_TSLA.csv',\n",
       " '../data/yf_news_TSM.csv']"
      ]
     },
     "execution_count": 2,
     "metadata": {},
     "output_type": "execute_result"
    }
   ],
   "source": [
    "news_files = []\n",
    "for file in os.listdir('../data/'):\n",
    "    if file.endswith('.csv'):\n",
    "        news_files.append(os.path.join('../data/' ,file))\n",
    "    if os.path.isfile('../data/labeled/' + file):\n",
    "        continue\n",
    "news_files"
   ]
  },
  {
   "cell_type": "code",
   "execution_count": 22,
   "id": "496a4ed6-1f20-444d-9b5b-227c0754ce05",
   "metadata": {},
   "outputs": [
    {
     "data": {
      "text/plain": [
       "'../data/yf_news_BA.csv'"
      ]
     },
     "execution_count": 22,
     "metadata": {},
     "output_type": "execute_result"
    }
   ],
   "source": [
    "file_id = 2\n",
    "news_files[file_id]"
   ]
  },
  {
   "cell_type": "code",
   "execution_count": 23,
   "id": "59fd949e-f5e6-41af-9266-f56e31a034ee",
   "metadata": {},
   "outputs": [
    {
     "data": {
      "text/html": [
       "<div>\n",
       "<style scoped>\n",
       "    .dataframe tbody tr th:only-of-type {\n",
       "        vertical-align: middle;\n",
       "    }\n",
       "\n",
       "    .dataframe tbody tr th {\n",
       "        vertical-align: top;\n",
       "    }\n",
       "\n",
       "    .dataframe thead th {\n",
       "        text-align: right;\n",
       "    }\n",
       "</style>\n",
       "<table border=\"1\" class=\"dataframe\">\n",
       "  <thead>\n",
       "    <tr style=\"text-align: right;\">\n",
       "      <th></th>\n",
       "      <th>Datetime</th>\n",
       "      <th>headline</th>\n",
       "      <th>description</th>\n",
       "      <th>article</th>\n",
       "      <th>link</th>\n",
       "    </tr>\n",
       "  </thead>\n",
       "  <tbody>\n",
       "    <tr>\n",
       "      <th>195</th>\n",
       "      <td>2025-06-07 03:49:00</td>\n",
       "      <td>Boeing prepares to resume plane deliveries to ...</td>\n",
       "      <td>SEATTLE (Reuters) -A new Boeing 737 MAX painte...</td>\n",
       "      <td>By Lisa Barrington and Dan Catchpole.SEATTLE (...</td>\n",
       "      <td>https://finance.yahoo.com/news/boeing-prepares...</td>\n",
       "    </tr>\n",
       "    <tr>\n",
       "      <th>196</th>\n",
       "      <td>2025-06-06 21:00:00</td>\n",
       "      <td>RTX Shines Bright Under Defense Spotlight: Wha...</td>\n",
       "      <td>RTX lands multi-million-dollar defense contrac...</td>\n",
       "      <td>U.S.-based RTX Corp. RTX, a leading defense co...</td>\n",
       "      <td>https://finance.yahoo.com/news/rtx-shines-brig...</td>\n",
       "    </tr>\n",
       "    <tr>\n",
       "      <th>197</th>\n",
       "      <td>2025-06-06 20:18:00</td>\n",
       "      <td>Rocket Lab's Launch Services Soar as Commercia...</td>\n",
       "      <td>RKLB secures major launch deals and ramps up m...</td>\n",
       "      <td>Space company, Rocket Lab USA, Inc. RKLB, rece...</td>\n",
       "      <td>https://finance.yahoo.com/news/rocket-labs-lau...</td>\n",
       "    </tr>\n",
       "    <tr>\n",
       "      <th>198</th>\n",
       "      <td>2025-06-06 20:06:00</td>\n",
       "      <td>Virgin Galactic stock jumps on SpaceX competit...</td>\n",
       "      <td>Investing.com -- Shares of Virgin Galactic (NY...</td>\n",
       "      <td>Investing.com -- Shares of Virgin Galactic (NY...</td>\n",
       "      <td>https://finance.yahoo.com/news/virgin-galactic...</td>\n",
       "    </tr>\n",
       "    <tr>\n",
       "      <th>199</th>\n",
       "      <td>2025-06-06 17:03:00</td>\n",
       "      <td>Jacobs to provide services for Boeing’s St. Lo...</td>\n",
       "      <td>Site construction is forecast to be completed ...</td>\n",
       "      <td>Jacobs has secured a contract to offer design,...</td>\n",
       "      <td>https://finance.yahoo.com/news/jacobs-services...</td>\n",
       "    </tr>\n",
       "  </tbody>\n",
       "</table>\n",
       "</div>"
      ],
      "text/plain": [
       "                Datetime                                           headline  \\\n",
       "195  2025-06-07 03:49:00  Boeing prepares to resume plane deliveries to ...   \n",
       "196  2025-06-06 21:00:00  RTX Shines Bright Under Defense Spotlight: Wha...   \n",
       "197  2025-06-06 20:18:00  Rocket Lab's Launch Services Soar as Commercia...   \n",
       "198  2025-06-06 20:06:00  Virgin Galactic stock jumps on SpaceX competit...   \n",
       "199  2025-06-06 17:03:00  Jacobs to provide services for Boeing’s St. Lo...   \n",
       "\n",
       "                                           description  \\\n",
       "195  SEATTLE (Reuters) -A new Boeing 737 MAX painte...   \n",
       "196  RTX lands multi-million-dollar defense contrac...   \n",
       "197  RKLB secures major launch deals and ramps up m...   \n",
       "198  Investing.com -- Shares of Virgin Galactic (NY...   \n",
       "199  Site construction is forecast to be completed ...   \n",
       "\n",
       "                                               article  \\\n",
       "195  By Lisa Barrington and Dan Catchpole.SEATTLE (...   \n",
       "196  U.S.-based RTX Corp. RTX, a leading defense co...   \n",
       "197  Space company, Rocket Lab USA, Inc. RKLB, rece...   \n",
       "198  Investing.com -- Shares of Virgin Galactic (NY...   \n",
       "199  Jacobs has secured a contract to offer design,...   \n",
       "\n",
       "                                                  link  \n",
       "195  https://finance.yahoo.com/news/boeing-prepares...  \n",
       "196  https://finance.yahoo.com/news/rtx-shines-brig...  \n",
       "197  https://finance.yahoo.com/news/rocket-labs-lau...  \n",
       "198  https://finance.yahoo.com/news/virgin-galactic...  \n",
       "199  https://finance.yahoo.com/news/jacobs-services...  "
      ]
     },
     "execution_count": 23,
     "metadata": {},
     "output_type": "execute_result"
    }
   ],
   "source": [
    "df_news = pd.read_csv(news_files[file_id])\n",
    "df_news.tail()"
   ]
  },
  {
   "cell_type": "code",
   "execution_count": 24,
   "id": "bde0acee-5995-451b-b829-f92832ee6ef3",
   "metadata": {},
   "outputs": [
    {
     "name": "stdout",
     "output_type": "stream",
     "text": [
      "total news: 200\n",
      "\n",
      "199 processing: Jacobs to provide services for Boeing’s St. Louis expansion                                                                                                  "
     ]
    }
   ],
   "source": [
    "analysis = []\n",
    "print_str = ' '\n",
    "print(f\"total news: {len(df_news)}\\n\")\n",
    "for i, (headline, description) in enumerate(zip(df_news['headline'], df_news['description'])):\n",
    "    sys.stdout.flush()\n",
    "    print_str = '\\r' + ''.join([' ' for i in range(len(print_str))])\n",
    "    sys.stdout.write(print_str)\n",
    "\n",
    "    sys.stdout.flush()\n",
    "    print_str = f'\\r{i} processing: {headline}'\n",
    "    sys.stdout.write(print_str)\n",
    "    \n",
    "    risk_analysis = deepseek_labling(headline, description)\n",
    "\n",
    "    analysis.append(risk_analysis)"
   ]
  },
  {
   "cell_type": "code",
   "execution_count": 25,
   "id": "29d93dd0-d63e-4652-9274-84fcf8dfa9b3",
   "metadata": {},
   "outputs": [],
   "source": [
    "df_news['analysis'] = analysis"
   ]
  },
  {
   "cell_type": "code",
   "execution_count": 26,
   "id": "178abf22-96ec-459f-939c-419e7f6c3a12",
   "metadata": {},
   "outputs": [],
   "source": [
    "df_news.to_csv('../data/labeled/' + news_files[file_id].split('/')[-1], index=False)"
   ]
  },
  {
   "cell_type": "code",
   "execution_count": 27,
   "id": "d392dce8-20b0-4cda-8911-db39b03178f7",
   "metadata": {},
   "outputs": [
    {
     "data": {
      "text/plain": [
       "'yf_news_BA.csv'"
      ]
     },
     "execution_count": 27,
     "metadata": {},
     "output_type": "execute_result"
    }
   ],
   "source": [
    "news_files[file_id].split('/')[-1]"
   ]
  },
  {
   "cell_type": "code",
   "execution_count": null,
   "id": "5340867d-b7c7-4ac0-8bde-88262ce0fc2b",
   "metadata": {},
   "outputs": [],
   "source": []
  },
  {
   "cell_type": "code",
   "execution_count": null,
   "id": "b2448f79-6647-4bec-997d-6ce25babbf16",
   "metadata": {},
   "outputs": [],
   "source": []
  },
  {
   "cell_type": "code",
   "execution_count": null,
   "id": "a4142d1d-7bf3-4bc5-92d4-d245476a5e3e",
   "metadata": {},
   "outputs": [
    {
     "name": "stdout",
     "output_type": "stream",
     "text": [
      "0 - processing: yf_news_AAPL.csv\n",
      "total news: 198\n",
      "2 processing: This Is The Ultimate Warren Buffett Stock: Is It A Buy After CEO News, These Portfolio Moves?"
     ]
    }
   ],
   "source": [
    "for file_id in range(len(news_files)):\n",
    "    print(f\"{file_id} - processing: {news_files[file_id].split('/')[-1]}\")\n",
    "    df_news = pd.read_csv(news_files[file_id])\n",
    "\n",
    "    analysis = []\n",
    "    print_str = ' '\n",
    "    print(f\"total news: {len(df_news)}\")\n",
    "    for i, (headline, description) in enumerate(zip(df_news['headline'], df_news['description'])):\n",
    "        sys.stdout.flush()\n",
    "        print_str = '\\r' + ''.join([' ' for i in range(len(print_str))])\n",
    "        sys.stdout.write(print_str)\n",
    "    \n",
    "        sys.stdout.flush()\n",
    "        print_str = f'\\r{i} processing: {headline}'\n",
    "        sys.stdout.write(print_str)\n",
    "        \n",
    "        risk_analysis = deepseek_labling(headline, description)\n",
    "    \n",
    "        analysis.append(risk_analysis)\n",
    "    df_news['analysis'] = analysis\n",
    "    df_news.to_csv('../data/labeled/' + news_files[file_id].split('/')[-1], index=False)\n",
    "    print(\"----------------------------------------------------------\")"
   ]
  }
 ],
 "metadata": {
  "kernelspec": {
   "display_name": "Python 3 (ipykernel)",
   "language": "python",
   "name": "python3"
  },
  "language_info": {
   "codemirror_mode": {
    "name": "ipython",
    "version": 3
   },
   "file_extension": ".py",
   "mimetype": "text/x-python",
   "name": "python",
   "nbconvert_exporter": "python",
   "pygments_lexer": "ipython3",
   "version": "3.10.16"
  }
 },
 "nbformat": 4,
 "nbformat_minor": 5
}
