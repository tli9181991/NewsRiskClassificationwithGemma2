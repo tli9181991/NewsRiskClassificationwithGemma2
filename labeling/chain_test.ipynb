{
 "cells": [
  {
   "cell_type": "code",
   "execution_count": 18,
   "id": "b8f75abd-9830-41d1-a984-0d7fc96bd66e",
   "metadata": {},
   "outputs": [],
   "source": [
    "import os, sys\n",
    "import pandas as pd\n",
    "from deepseek_chain import deepseek_labling"
   ]
  },
  {
   "cell_type": "code",
   "execution_count": 11,
   "id": "992bdccb-07d1-4b63-833a-a76651f8e05f",
   "metadata": {},
   "outputs": [
    {
     "data": {
      "text/plain": [
       "['../data/yf_news_AAPL.csv',\n",
       " '../data/yf_news_AMZN.csv',\n",
       " '../data/yf_news_GOOG.csv',\n",
       " '../data/yf_news_META.csv',\n",
       " '../data/yf_news_NVDA.csv',\n",
       " '../data/yf_news_TSLA.csv']"
      ]
     },
     "execution_count": 11,
     "metadata": {},
     "output_type": "execute_result"
    }
   ],
   "source": [
    "news_files = [os.path.join('../data/' ,file) for file in os.listdir('../data/')]\n",
    "news_files"
   ]
  },
  {
   "cell_type": "code",
   "execution_count": 13,
   "id": "59fd949e-f5e6-41af-9266-f56e31a034ee",
   "metadata": {},
   "outputs": [
    {
     "data": {
      "text/html": [
       "<div>\n",
       "<style scoped>\n",
       "    .dataframe tbody tr th:only-of-type {\n",
       "        vertical-align: middle;\n",
       "    }\n",
       "\n",
       "    .dataframe tbody tr th {\n",
       "        vertical-align: top;\n",
       "    }\n",
       "\n",
       "    .dataframe thead th {\n",
       "        text-align: right;\n",
       "    }\n",
       "</style>\n",
       "<table border=\"1\" class=\"dataframe\">\n",
       "  <thead>\n",
       "    <tr style=\"text-align: right;\">\n",
       "      <th></th>\n",
       "      <th>Datetime</th>\n",
       "      <th>headline</th>\n",
       "      <th>description</th>\n",
       "      <th>article</th>\n",
       "      <th>link</th>\n",
       "    </tr>\n",
       "  </thead>\n",
       "  <tbody>\n",
       "    <tr>\n",
       "      <th>0</th>\n",
       "      <td>2025-06-24 01:32:00</td>\n",
       "      <td>Super Micro, AMD upgrade, Apple &amp; AI: Trending...</td>\n",
       "      <td>Super Micro Computer (SMCI) stock falls after ...</td>\n",
       "      <td>Super Micro Computer (SMCI) stock falls after ...</td>\n",
       "      <td>https://finance.yahoo.com/video/super-micro-am...</td>\n",
       "    </tr>\n",
       "    <tr>\n",
       "      <th>1</th>\n",
       "      <td>2025-06-24 13:59:00</td>\n",
       "      <td>US Finalizing $500 Million for African Critica...</td>\n",
       "      <td>(Bloomberg) -- The US International Developmen...</td>\n",
       "      <td>(Bloomberg) -- The US International Developmen...</td>\n",
       "      <td>https://finance.yahoo.com/news/us-finalizing-5...</td>\n",
       "    </tr>\n",
       "    <tr>\n",
       "      <th>2</th>\n",
       "      <td>2025-06-24 09:31:00</td>\n",
       "      <td>Steve Jobs Believed Teamwork Required 'Bumping...</td>\n",
       "      <td>Steve Jobs once likened a high-performing team...</td>\n",
       "      <td>Steve Jobs once likened a high-performing team...</td>\n",
       "      <td>https://finance.yahoo.com/news/steve-jobs-beli...</td>\n",
       "    </tr>\n",
       "    <tr>\n",
       "      <th>3</th>\n",
       "      <td>2025-06-24 08:44:00</td>\n",
       "      <td>Court filings reveal OpenAI and io’s early wor...</td>\n",
       "      <td>The ChatGPT maker seems to be more than a year...</td>\n",
       "      <td>Legal filings submitted earlier this month fro...</td>\n",
       "      <td>https://finance.yahoo.com/news/court-filings-r...</td>\n",
       "    </tr>\n",
       "    <tr>\n",
       "      <th>4</th>\n",
       "      <td>2025-06-24 04:36:00</td>\n",
       "      <td>Is Apple Looking To Catch Up In AI With Big Deal?</td>\n",
       "      <td>Apple’s slow response to the AI megatrend has ...</td>\n",
       "      <td>Apple’s slow response to the AI megatrend has ...</td>\n",
       "      <td>https://finance.yahoo.com/m/036eb1b4-7079-3501...</td>\n",
       "    </tr>\n",
       "  </tbody>\n",
       "</table>\n",
       "</div>"
      ],
      "text/plain": [
       "              Datetime                                           headline  \\\n",
       "0  2025-06-24 01:32:00  Super Micro, AMD upgrade, Apple & AI: Trending...   \n",
       "1  2025-06-24 13:59:00  US Finalizing $500 Million for African Critica...   \n",
       "2  2025-06-24 09:31:00  Steve Jobs Believed Teamwork Required 'Bumping...   \n",
       "3  2025-06-24 08:44:00  Court filings reveal OpenAI and io’s early wor...   \n",
       "4  2025-06-24 04:36:00  Is Apple Looking To Catch Up In AI With Big Deal?   \n",
       "\n",
       "                                         description  \\\n",
       "0  Super Micro Computer (SMCI) stock falls after ...   \n",
       "1  (Bloomberg) -- The US International Developmen...   \n",
       "2  Steve Jobs once likened a high-performing team...   \n",
       "3  The ChatGPT maker seems to be more than a year...   \n",
       "4  Apple’s slow response to the AI megatrend has ...   \n",
       "\n",
       "                                             article  \\\n",
       "0  Super Micro Computer (SMCI) stock falls after ...   \n",
       "1  (Bloomberg) -- The US International Developmen...   \n",
       "2  Steve Jobs once likened a high-performing team...   \n",
       "3  Legal filings submitted earlier this month fro...   \n",
       "4  Apple’s slow response to the AI megatrend has ...   \n",
       "\n",
       "                                                link  \n",
       "0  https://finance.yahoo.com/video/super-micro-am...  \n",
       "1  https://finance.yahoo.com/news/us-finalizing-5...  \n",
       "2  https://finance.yahoo.com/news/steve-jobs-beli...  \n",
       "3  https://finance.yahoo.com/news/court-filings-r...  \n",
       "4  https://finance.yahoo.com/m/036eb1b4-7079-3501...  "
      ]
     },
     "execution_count": 13,
     "metadata": {},
     "output_type": "execute_result"
    }
   ],
   "source": [
    "df_news = pd.read_csv(news_files[0])\n",
    "df_news.head()"
   ]
  },
  {
   "cell_type": "code",
   "execution_count": null,
   "id": "bde0acee-5995-451b-b829-f92832ee6ef3",
   "metadata": {},
   "outputs": [
    {
     "name": "stdout",
     "output_type": "stream",
     "text": [
      "processing: US Finalizing $500 Million for African Critical Minerals Railway"
     ]
    }
   ],
   "source": [
    "analysis = []\n",
    "print_str = ' '\n",
    "for headline, description in zip(df_news['headline'], df_news['description']):\n",
    "    sys.stdout.flush()\n",
    "    print_str = '\\r' + ''.join([' ' for i in range(len(print_str))])\n",
    "    sys.stdout.write(print_str)\n",
    "\n",
    "    sys.stdout.flush()\n",
    "    print_str = f'\\rprocessing: {headline}'\n",
    "    sys.stdout.write(print_str)\n",
    "    \n",
    "    risk_analysis = deepseek_labling(headline, description)\n",
    "\n",
    "    analysis.append(risk_analysis)"
   ]
  },
  {
   "cell_type": "code",
   "execution_count": null,
   "id": "29d93dd0-d63e-4652-9274-84fcf8dfa9b3",
   "metadata": {},
   "outputs": [],
   "source": []
  }
 ],
 "metadata": {
  "kernelspec": {
   "display_name": "Python 3 (ipykernel)",
   "language": "python",
   "name": "python3"
  },
  "language_info": {
   "codemirror_mode": {
    "name": "ipython",
    "version": 3
   },
   "file_extension": ".py",
   "mimetype": "text/x-python",
   "name": "python",
   "nbconvert_exporter": "python",
   "pygments_lexer": "ipython3",
   "version": "3.10.16"
  }
 },
 "nbformat": 4,
 "nbformat_minor": 5
}
