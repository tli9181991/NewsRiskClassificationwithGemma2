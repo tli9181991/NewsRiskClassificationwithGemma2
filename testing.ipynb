{
 "cells": [
  {
   "cell_type": "code",
   "execution_count": 1,
   "id": "303004fc",
   "metadata": {},
   "outputs": [],
   "source": [
    "from scraping.yfinance_scraper import fetch_yfinance_news_data"
   ]
  },
  {
   "cell_type": "code",
   "execution_count": 2,
   "id": "086f1372",
   "metadata": {},
   "outputs": [],
   "source": [
    "from datetime import datetime, timedelta"
   ]
  },
  {
   "cell_type": "code",
   "execution_count": 3,
   "id": "be39cb8c",
   "metadata": {},
   "outputs": [],
   "source": [
    "end_datetime = datetime.now() - timedelta(days=10)"
   ]
  },
  {
   "cell_type": "code",
   "execution_count": 4,
   "id": "948a37e4",
   "metadata": {},
   "outputs": [
    {
     "name": "stdout",
     "output_type": "stream",
     "text": [
      "News Collecting...ERROR: headlines/descriptions extraction Fail\n",
      "\n",
      "News collected from 2025-06-19 10:54:00 to 2025-06-18 23:28:00\n"
     ]
    }
   ],
   "source": [
    "nvda_news = fetch_yfinance_news_data(\"NVDA\", end_datetime, 100, slp_time=10)"
   ]
  },
  {
   "cell_type": "code",
   "execution_count": 11,
   "id": "911547fb",
   "metadata": {},
   "outputs": [
    {
     "data": {
      "text/html": [
       "<div>\n",
       "<style scoped>\n",
       "    .dataframe tbody tr th:only-of-type {\n",
       "        vertical-align: middle;\n",
       "    }\n",
       "\n",
       "    .dataframe tbody tr th {\n",
       "        vertical-align: top;\n",
       "    }\n",
       "\n",
       "    .dataframe thead th {\n",
       "        text-align: right;\n",
       "    }\n",
       "</style>\n",
       "<table border=\"1\" class=\"dataframe\">\n",
       "  <thead>\n",
       "    <tr style=\"text-align: right;\">\n",
       "      <th></th>\n",
       "      <th>Datetime</th>\n",
       "      <th>headline</th>\n",
       "      <th>description</th>\n",
       "      <th>link</th>\n",
       "    </tr>\n",
       "  </thead>\n",
       "  <tbody>\n",
       "    <tr>\n",
       "      <th>0</th>\n",
       "      <td>2025-06-19 10:54:00</td>\n",
       "      <td>Nvidia (NVDA) Could Hit $5 Trillion as Analyst...</td>\n",
       "      <td>AI chip leader's data center surge, profit str...</td>\n",
       "      <td>https://finance.yahoo.com/news/nvidia-nvda-cou...</td>\n",
       "    </tr>\n",
       "    <tr>\n",
       "      <th>1</th>\n",
       "      <td>2025-06-19 10:31:00</td>\n",
       "      <td>Nvidia Stock Could Rise Another 38%, Making Je...</td>\n",
       "      <td>Barclays analysts have raised their price targ...</td>\n",
       "      <td>https://finance.yahoo.com/news/nvidia-stock-co...</td>\n",
       "    </tr>\n",
       "    <tr>\n",
       "      <th>2</th>\n",
       "      <td>2025-06-19 06:30:00</td>\n",
       "      <td>This Monster Artificial Intelligence (AI) Data...</td>\n",
       "      <td>Google Cloud just signed a major deal with Ope...</td>\n",
       "      <td>https://finance.yahoo.com/news/monster-artific...</td>\n",
       "    </tr>\n",
       "    <tr>\n",
       "      <th>3</th>\n",
       "      <td>2025-06-19 07:00:00</td>\n",
       "      <td>Nvidia and the AI boom helps Malaysia’s Nation...</td>\n",
       "      <td>Nationgate generated $1.6 billion in revenue l...</td>\n",
       "      <td>https://finance.yahoo.com/news/nvidia-ai-boom-...</td>\n",
       "    </tr>\n",
       "    <tr>\n",
       "      <th>4</th>\n",
       "      <td>2025-06-19 06:00:00</td>\n",
       "      <td>Prediction: This Artificial Intelligence (AI) ...</td>\n",
       "      <td>While cloud and chip stocks remain hot, I see ...</td>\n",
       "      <td>https://finance.yahoo.com/news/prediction-arti...</td>\n",
       "    </tr>\n",
       "  </tbody>\n",
       "</table>\n",
       "</div>"
      ],
      "text/plain": [
       "             Datetime                                           headline  \\\n",
       "0 2025-06-19 10:54:00  Nvidia (NVDA) Could Hit $5 Trillion as Analyst...   \n",
       "1 2025-06-19 10:31:00  Nvidia Stock Could Rise Another 38%, Making Je...   \n",
       "2 2025-06-19 06:30:00  This Monster Artificial Intelligence (AI) Data...   \n",
       "3 2025-06-19 07:00:00  Nvidia and the AI boom helps Malaysia’s Nation...   \n",
       "4 2025-06-19 06:00:00  Prediction: This Artificial Intelligence (AI) ...   \n",
       "\n",
       "                                         description  \\\n",
       "0  AI chip leader's data center surge, profit str...   \n",
       "1  Barclays analysts have raised their price targ...   \n",
       "2  Google Cloud just signed a major deal with Ope...   \n",
       "3  Nationgate generated $1.6 billion in revenue l...   \n",
       "4  While cloud and chip stocks remain hot, I see ...   \n",
       "\n",
       "                                                link  \n",
       "0  https://finance.yahoo.com/news/nvidia-nvda-cou...  \n",
       "1  https://finance.yahoo.com/news/nvidia-stock-co...  \n",
       "2  https://finance.yahoo.com/news/monster-artific...  \n",
       "3  https://finance.yahoo.com/news/nvidia-ai-boom-...  \n",
       "4  https://finance.yahoo.com/news/prediction-arti...  "
      ]
     },
     "execution_count": 11,
     "metadata": {},
     "output_type": "execute_result"
    }
   ],
   "source": [
    "nvda_news.head()"
   ]
  },
  {
   "cell_type": "code",
   "execution_count": 12,
   "id": "8a305ef5",
   "metadata": {},
   "outputs": [
    {
     "data": {
      "text/plain": [
       "'https://finance.yahoo.com/news/nvidia-nvda-could-hit-5-025407095.html'"
      ]
     },
     "execution_count": 12,
     "metadata": {},
     "output_type": "execute_result"
    }
   ],
   "source": [
    "news_link = nvda_news['link'][0]\n",
    "news_link"
   ]
  },
  {
   "cell_type": "code",
   "execution_count": 8,
   "id": "df7a4bd7",
   "metadata": {},
   "outputs": [],
   "source": [
    "import requests\n",
    "from bs4 import BeautifulSoup as bs\n",
    "import pandas as pd"
   ]
  },
  {
   "cell_type": "code",
   "execution_count": null,
   "id": "8d83d727",
   "metadata": {},
   "outputs": [],
   "source": [
    "content = requests.get(news_link, headers = {\"User-Agent\": \"Mozilla/5.0 (Macintosh; Intel Mac OS X 10_15_7) AppleWebKit/537.36 (KHTML, like Gecko) Chrome/130.0.0.0 Safari/537.3\"})\n",
    "content_bs = bs(content.content, 'html')\n",
    "\n",
    "date_time = content_bs.find('time', {'class': 'byline-attr-meta-time'}).text\n",
    "weekday, mon_date, year, news_time = date_time.split(',')\n",
    "month = mon_date.split(' ')[1]\n",
    "day = mon_date.split(' ')[2]\n",
    "year = year.replace(' ', '')\n",
    "news_date = year + \"-\" + month + \"-\" + day\n",
    "news_datetime = pd.to_datetime(news_date + news_time)\n",
    "\n",
    "article_soups = content_bs.find('div', {'class': 'atoms-wrapper'})\n",
    "article = '.'.join([p.text for p in article_soups.find_all('p')])"
   ]
  },
  {
   "cell_type": "code",
   "execution_count": null,
   "id": "623f05eb",
   "metadata": {},
   "outputs": [
    {
     "data": {
      "text/plain": [
       "['Nvidia (NVDA, Financials) is drawing fresh bullish forecasts after a rapid five-year rally, with analysts now predicting the chipmaker could grow into a $5 trillion company.',\n",
       " 'Warning! GuruFocus has detected 4 Warning Signs with NVDA.',\n",
       " \"Shares have climbed more than 3,000% over the past five years, and are currently trading near all-time highs. Rosenblatt Securities analyst Hans Mosesmann maintained a $200 price target this week, while UBS and Goldman Sachs pointed to Nvidia's dominant position in AI hardware as reason for long-term upside.\",\n",
       " \"Nvidia controls more than 80% of the AI accelerator market and reported a 427% year-over-year jump in data center revenue in its latest quarter. That segment is critical to generative AI and cloud infrastructure buildouts, bolstering Nvidia's top line and free cash flow which now exceeds Amazon's.\",\n",
       " \"The company's proprietary CUDA software, tight integration with Taiwan Semiconductor Manufacturing Co., and leading-edge GPUs like the H100 and upcoming Blackwell series reinforce its pricing power and market moat.\",\n",
       " \"Nvidia also reported more than $14 billion in quarterly profits, helping justify its $2.9 trillion market cap as of June 18. A doubling in valuation would place it in direct competition with Apple (AAPL, Financials) and Microsoft (MSFT, Financials) as the world's most valuable public firm.\",\n",
       " \"Nvidia trades at over 40x forward earnings, raising valuation concerns. Analysts are also monitoring geopolitical tensions between the U.S. and China, which could impact Nvidia's chip exports and manufacturing pipeline. Advanced Micro Devices (AMD, Financials) and Intel (INTC, Financials) continue to invest in AI chips, although they currently trail Nvidia on execution.\",\n",
       " 'This article first appeared on GuruFocus.']"
      ]
     },
     "execution_count": 19,
     "metadata": {},
     "output_type": "execute_result"
    }
   ],
   "source": []
  }
 ],
 "metadata": {
  "kernelspec": {
   "display_name": "llm",
   "language": "python",
   "name": "python3"
  },
  "language_info": {
   "codemirror_mode": {
    "name": "ipython",
    "version": 3
   },
   "file_extension": ".py",
   "mimetype": "text/x-python",
   "name": "python",
   "nbconvert_exporter": "python",
   "pygments_lexer": "ipython3",
   "version": "3.10.16"
  }
 },
 "nbformat": 4,
 "nbformat_minor": 5
}
