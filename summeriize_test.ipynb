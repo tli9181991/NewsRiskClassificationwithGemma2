{
 "cells": [
  {
   "cell_type": "code",
   "execution_count": 2,
   "id": "303004fc",
   "metadata": {},
   "outputs": [],
   "source": [
    "from scraping.yfinance_scraper import fetch_yfinance_news_data"
   ]
  },
  {
   "cell_type": "code",
   "execution_count": 3,
   "id": "086f1372",
   "metadata": {},
   "outputs": [],
   "source": [
    "from datetime import datetime, timedelta"
   ]
  },
  {
   "cell_type": "code",
   "execution_count": 4,
   "id": "be39cb8c",
   "metadata": {},
   "outputs": [
    {
     "data": {
      "text/plain": [
       "datetime.datetime(2025, 5, 22, 21, 43, 57, 247252)"
      ]
     },
     "execution_count": 4,
     "metadata": {},
     "output_type": "execute_result"
    }
   ],
   "source": [
    "end_datetime = datetime.now() - timedelta(days=30)\n",
    "end_datetime"
   ]
  },
  {
   "cell_type": "code",
   "execution_count": 6,
   "id": "c4c766f1-951f-40e6-aa3c-d4265b78248d",
   "metadata": {},
   "outputs": [],
   "source": [
    "ticker = \"NVDA\""
   ]
  },
  {
   "cell_type": "code",
   "execution_count": 7,
   "id": "948a37e4",
   "metadata": {},
   "outputs": [
    {
     "name": "stdout",
     "output_type": "stream",
     "text": [
      "Scrolling 9...Total Srcoll: 9\n",
      "News Collecting...\n",
      "News collected from 2025-06-21 06:02:00 to 2025-06-16 17:15:00\n"
     ]
    }
   ],
   "source": [
    "nvda_news = fetch_yfinance_news_data(ticker, end_datetime, 100, slp_time=10)"
   ]
  },
  {
   "cell_type": "code",
   "execution_count": 10,
   "id": "911547fb",
   "metadata": {},
   "outputs": [
    {
     "data": {
      "text/html": [
       "<div>\n",
       "<style scoped>\n",
       "    .dataframe tbody tr th:only-of-type {\n",
       "        vertical-align: middle;\n",
       "    }\n",
       "\n",
       "    .dataframe tbody tr th {\n",
       "        vertical-align: top;\n",
       "    }\n",
       "\n",
       "    .dataframe thead th {\n",
       "        text-align: right;\n",
       "    }\n",
       "</style>\n",
       "<table border=\"1\" class=\"dataframe\">\n",
       "  <thead>\n",
       "    <tr style=\"text-align: right;\">\n",
       "      <th></th>\n",
       "      <th>Datetime</th>\n",
       "      <th>headline</th>\n",
       "      <th>description</th>\n",
       "      <th>article</th>\n",
       "      <th>link</th>\n",
       "    </tr>\n",
       "  </thead>\n",
       "  <tbody>\n",
       "    <tr>\n",
       "      <th>193</th>\n",
       "      <td>2025-06-16 17:30:00</td>\n",
       "      <td>Is This Beaten-Down Cathie Wood Artificial Int...</td>\n",
       "      <td>Recursion could help revolutionize the way dru...</td>\n",
       "      <td>Recursion could help revolutionize the way dru...</td>\n",
       "      <td>https://finance.yahoo.com/news/beaten-down-cat...</td>\n",
       "    </tr>\n",
       "    <tr>\n",
       "      <th>194</th>\n",
       "      <td>2025-06-16 17:30:00</td>\n",
       "      <td>Big Tech’s Furious Rally Forces Options Pros t...</td>\n",
       "      <td>(Bloomberg) -- Big Tech has led the furious re...</td>\n",
       "      <td>(Bloomberg) -- Big Tech has led the furious re...</td>\n",
       "      <td>https://finance.yahoo.com/news/big-tech-furiou...</td>\n",
       "    </tr>\n",
       "    <tr>\n",
       "      <th>195</th>\n",
       "      <td>2025-06-16 17:30:00</td>\n",
       "      <td>AI Companies Should Be Wary of Gulf Spending S...</td>\n",
       "      <td>Nvidia and other U.S. tech companies are benef...</td>\n",
       "      <td>Nvidia and other U.S. tech companies are benef...</td>\n",
       "      <td>https://finance.yahoo.com/m/0be225d1-5cd7-3fce...</td>\n",
       "    </tr>\n",
       "    <tr>\n",
       "      <th>196</th>\n",
       "      <td>2025-06-16 17:25:00</td>\n",
       "      <td>Nvidia, Deutsche Telekom to launch industrial ...</td>\n",
       "      <td>Deutsche Telekom will oversee the AI factory, ...</td>\n",
       "      <td>US-based tech giant Nvidia has collaborated wi...</td>\n",
       "      <td>https://finance.yahoo.com/news/nvidia-deutsche...</td>\n",
       "    </tr>\n",
       "    <tr>\n",
       "      <th>197</th>\n",
       "      <td>2025-06-16 17:15:00</td>\n",
       "      <td>The Best Stocks to Buy With $1,000 Right Now</td>\n",
       "      <td>Nvidia's growth is far from complete.  Taiwan ...</td>\n",
       "      <td>Nvidia's growth is far from complete..Taiwan S...</td>\n",
       "      <td>https://finance.yahoo.com/news/best-stocks-buy...</td>\n",
       "    </tr>\n",
       "  </tbody>\n",
       "</table>\n",
       "</div>"
      ],
      "text/plain": [
       "               Datetime                                           headline  \\\n",
       "193 2025-06-16 17:30:00  Is This Beaten-Down Cathie Wood Artificial Int...   \n",
       "194 2025-06-16 17:30:00  Big Tech’s Furious Rally Forces Options Pros t...   \n",
       "195 2025-06-16 17:30:00  AI Companies Should Be Wary of Gulf Spending S...   \n",
       "196 2025-06-16 17:25:00  Nvidia, Deutsche Telekom to launch industrial ...   \n",
       "197 2025-06-16 17:15:00       The Best Stocks to Buy With $1,000 Right Now   \n",
       "\n",
       "                                           description  \\\n",
       "193  Recursion could help revolutionize the way dru...   \n",
       "194  (Bloomberg) -- Big Tech has led the furious re...   \n",
       "195  Nvidia and other U.S. tech companies are benef...   \n",
       "196  Deutsche Telekom will oversee the AI factory, ...   \n",
       "197  Nvidia's growth is far from complete.  Taiwan ...   \n",
       "\n",
       "                                               article  \\\n",
       "193  Recursion could help revolutionize the way dru...   \n",
       "194  (Bloomberg) -- Big Tech has led the furious re...   \n",
       "195  Nvidia and other U.S. tech companies are benef...   \n",
       "196  US-based tech giant Nvidia has collaborated wi...   \n",
       "197  Nvidia's growth is far from complete..Taiwan S...   \n",
       "\n",
       "                                                  link  \n",
       "193  https://finance.yahoo.com/news/beaten-down-cat...  \n",
       "194  https://finance.yahoo.com/news/big-tech-furiou...  \n",
       "195  https://finance.yahoo.com/m/0be225d1-5cd7-3fce...  \n",
       "196  https://finance.yahoo.com/news/nvidia-deutsche...  \n",
       "197  https://finance.yahoo.com/news/best-stocks-buy...  "
      ]
     },
     "execution_count": 10,
     "metadata": {},
     "output_type": "execute_result"
    }
   ],
   "source": [
    "nvda_news.tail()"
   ]
  },
  {
   "cell_type": "code",
   "execution_count": 11,
   "id": "14df102e-5e27-4298-88a0-dde40a5df5c0",
   "metadata": {},
   "outputs": [],
   "source": [
    "nvda_news.to_csv(f\"./data/yf_news_{ticker}.csv\", index=False)"
   ]
  },
  {
   "cell_type": "code",
   "execution_count": 12,
   "id": "8a305ef5",
   "metadata": {},
   "outputs": [],
   "source": [
    "descriptions = nvda_news['description']"
   ]
  },
  {
   "cell_type": "code",
   "execution_count": 2,
   "id": "df7a4bd7",
   "metadata": {},
   "outputs": [],
   "source": [
    "import os\n",
    "# from langchain_community.document_loaders import TextLoader\n",
    "from langchain_community.llms import Ollama\n",
    "from langchain_ollama import ChatOllama\n",
    "from langchain_core.prompts import PromptTemplate\n",
    "from langchain_core.output_parsers import StrOutputParser\n",
    "from langchain_core.runnables import RunnablePassthrough, RunnableMap\n",
    "import pandas as pd"
   ]
  },
  {
   "cell_type": "code",
   "execution_count": 4,
   "id": "caeabb9c",
   "metadata": {},
   "outputs": [
    {
     "data": {
      "text/html": [
       "<div>\n",
       "<style scoped>\n",
       "    .dataframe tbody tr th:only-of-type {\n",
       "        vertical-align: middle;\n",
       "    }\n",
       "\n",
       "    .dataframe tbody tr th {\n",
       "        vertical-align: top;\n",
       "    }\n",
       "\n",
       "    .dataframe thead th {\n",
       "        text-align: right;\n",
       "    }\n",
       "</style>\n",
       "<table border=\"1\" class=\"dataframe\">\n",
       "  <thead>\n",
       "    <tr style=\"text-align: right;\">\n",
       "      <th></th>\n",
       "      <th>Datetime</th>\n",
       "      <th>headline</th>\n",
       "      <th>description</th>\n",
       "      <th>article</th>\n",
       "      <th>link</th>\n",
       "    </tr>\n",
       "  </thead>\n",
       "  <tbody>\n",
       "    <tr>\n",
       "      <th>0</th>\n",
       "      <td>2025-06-21 06:02:00</td>\n",
       "      <td>Stock market today: S&amp;P 500, Nasdaq fall amid ...</td>\n",
       "      <td>Traders are weighing the possibility of direct...</td>\n",
       "      <td>US stocks closed the session mixed on Friday a...</td>\n",
       "      <td>https://finance.yahoo.com/news/live/stock-mark...</td>\n",
       "    </tr>\n",
       "    <tr>\n",
       "      <th>1</th>\n",
       "      <td>2025-06-21 19:51:00</td>\n",
       "      <td>If I Could Buy Only 1 \"Magnificent 7\" Stock Ov...</td>\n",
       "      <td>Alphabet stock is lagging behind other Magnifi...</td>\n",
       "      <td>Alphabet shares have dipped 2% over the past y...</td>\n",
       "      <td>https://finance.yahoo.com/news/could-buy-only-...</td>\n",
       "    </tr>\n",
       "    <tr>\n",
       "      <th>2</th>\n",
       "      <td>2025-06-21 19:00:00</td>\n",
       "      <td>CrowdStrike Just Partnered Up With Nvidia. Sho...</td>\n",
       "      <td>A powerful alliance with Nvidia is redefining ...</td>\n",
       "      <td>CrowdStrike (CRWD) continues to ride the wave ...</td>\n",
       "      <td>https://finance.yahoo.com/news/crowdstrike-jus...</td>\n",
       "    </tr>\n",
       "    <tr>\n",
       "      <th>3</th>\n",
       "      <td>2025-06-21 19:00:00</td>\n",
       "      <td>Nvidia Stock Prediction, From Someone Who Has ...</td>\n",
       "      <td>The big winner of the first phase of the artif...</td>\n",
       "      <td>The big winner of the first phase of the artif...</td>\n",
       "      <td>https://finance.yahoo.com/news/nvidia-stock-pr...</td>\n",
       "    </tr>\n",
       "    <tr>\n",
       "      <th>4</th>\n",
       "      <td>2025-06-21 19:20:00</td>\n",
       "      <td>10 Monster Stocks to Hold for the Next 10 Years</td>\n",
       "      <td>Companies like Nvidia, Broadcom, and TSMC are ...</td>\n",
       "      <td>Companies like Nvidia, Broadcom, and TSMC are ...</td>\n",
       "      <td>https://finance.yahoo.com/news/10-monster-stoc...</td>\n",
       "    </tr>\n",
       "  </tbody>\n",
       "</table>\n",
       "</div>"
      ],
      "text/plain": [
       "              Datetime                                           headline  \\\n",
       "0  2025-06-21 06:02:00  Stock market today: S&P 500, Nasdaq fall amid ...   \n",
       "1  2025-06-21 19:51:00  If I Could Buy Only 1 \"Magnificent 7\" Stock Ov...   \n",
       "2  2025-06-21 19:00:00  CrowdStrike Just Partnered Up With Nvidia. Sho...   \n",
       "3  2025-06-21 19:00:00  Nvidia Stock Prediction, From Someone Who Has ...   \n",
       "4  2025-06-21 19:20:00    10 Monster Stocks to Hold for the Next 10 Years   \n",
       "\n",
       "                                         description  \\\n",
       "0  Traders are weighing the possibility of direct...   \n",
       "1  Alphabet stock is lagging behind other Magnifi...   \n",
       "2  A powerful alliance with Nvidia is redefining ...   \n",
       "3  The big winner of the first phase of the artif...   \n",
       "4  Companies like Nvidia, Broadcom, and TSMC are ...   \n",
       "\n",
       "                                             article  \\\n",
       "0  US stocks closed the session mixed on Friday a...   \n",
       "1  Alphabet shares have dipped 2% over the past y...   \n",
       "2  CrowdStrike (CRWD) continues to ride the wave ...   \n",
       "3  The big winner of the first phase of the artif...   \n",
       "4  Companies like Nvidia, Broadcom, and TSMC are ...   \n",
       "\n",
       "                                                link  \n",
       "0  https://finance.yahoo.com/news/live/stock-mark...  \n",
       "1  https://finance.yahoo.com/news/could-buy-only-...  \n",
       "2  https://finance.yahoo.com/news/crowdstrike-jus...  \n",
       "3  https://finance.yahoo.com/news/nvidia-stock-pr...  \n",
       "4  https://finance.yahoo.com/news/10-monster-stoc...  "
      ]
     },
     "execution_count": 4,
     "metadata": {},
     "output_type": "execute_result"
    }
   ],
   "source": [
    "nvda_news = pd.read_csv(f\"./data/yf_news_NVDA.csv\")\n",
    "nvda_news.head()"
   ]
  },
  {
   "cell_type": "code",
   "execution_count": 5,
   "id": "0e577b1f",
   "metadata": {},
   "outputs": [
    {
     "name": "stdout",
     "output_type": "stream",
     "text": [
      "^C\n"
     ]
    }
   ],
   "source": [
    "!ollama run deepseek-r1"
   ]
  },
  {
   "cell_type": "code",
   "execution_count": 6,
   "id": "8d83d727",
   "metadata": {},
   "outputs": [],
   "source": [
    "llm = ChatOllama(model=\"deepseek-r1\")"
   ]
  },
  {
   "cell_type": "code",
   "execution_count": 7,
   "id": "623f05eb",
   "metadata": {},
   "outputs": [],
   "source": [
    "\n",
    "\n",
    "prompt = PromptTemplate.from_template(\n",
    "    \"\"\"\n",
    "    You are a professional financial agent for risk management. \n",
    "    You will be given the headline and the description of a news.\n",
    "    Analysis the risk of the news of the article reflecting.ollama run deepseek-r1\n",
    "    \\n\\n{headline}\n",
    "    \\n\\n{description}\n",
    "    Just tell the type of risk you have classified. If there is no risk, say no risk.\n",
    "    \"\"\"\n",
    ")\n",
    "\n"
   ]
  },
  {
   "cell_type": "code",
   "execution_count": 8,
   "id": "16f4a76c",
   "metadata": {},
   "outputs": [],
   "source": [
    "\n",
    "\n",
    "summarization_chain = (\n",
    "    prompt\n",
    "    | llm\n",
    "    | StrOutputParser()\n",
    ")\n",
    "\n"
   ]
  },
  {
   "cell_type": "code",
   "execution_count": 9,
   "id": "c156843b",
   "metadata": {},
   "outputs": [
    {
     "data": {
      "text/plain": [
       "('Stock market today: S&P 500, Nasdaq fall amid Fed rate uncertainty as Trump mulls Iran move',\n",
       " 'Traders are weighing the possibility of direct US military involvement in the Israel-Iran war, now in its second week.')"
      ]
     },
     "execution_count": 9,
     "metadata": {},
     "output_type": "execute_result"
    }
   ],
   "source": [
    "headline = nvda_news['headline'][0]\n",
    "description = nvda_news['description'][0]\n",
    "headline, description"
   ]
  },
  {
   "cell_type": "code",
   "execution_count": 10,
   "id": "0bde1113",
   "metadata": {},
   "outputs": [],
   "source": [
    "result = summarization_chain.invoke({'headline': headline, 'description':description})"
   ]
  },
  {
   "cell_type": "code",
   "execution_count": 12,
   "id": "78298251",
   "metadata": {},
   "outputs": [
    {
     "data": {
      "text/plain": [
       "'geopolitical'"
      ]
     },
     "execution_count": 12,
     "metadata": {},
     "output_type": "execute_result"
    }
   ],
   "source": [
    "result.split('/think>\\n')[-1]"
   ]
  }
 ],
 "metadata": {
  "kernelspec": {
   "display_name": "llm",
   "language": "python",
   "name": "python3"
  },
  "language_info": {
   "codemirror_mode": {
    "name": "ipython",
    "version": 3
   },
   "file_extension": ".py",
   "mimetype": "text/x-python",
   "name": "python",
   "nbconvert_exporter": "python",
   "pygments_lexer": "ipython3",
   "version": "3.10.16"
  }
 },
 "nbformat": 4,
 "nbformat_minor": 5
}
