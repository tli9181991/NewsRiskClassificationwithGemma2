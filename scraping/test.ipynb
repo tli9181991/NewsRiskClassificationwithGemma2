{
 "cells": [
  {
   "cell_type": "code",
   "execution_count": 1,
   "id": "303004fc",
   "metadata": {},
   "outputs": [],
   "source": [
    "from yfinance_scraper import fetch_yfinance_news_data"
   ]
  },
  {
   "cell_type": "code",
   "execution_count": 2,
   "id": "086f1372",
   "metadata": {},
   "outputs": [],
   "source": [
    "from datetime import datetime, timedelta"
   ]
  },
  {
   "cell_type": "code",
   "execution_count": 3,
   "id": "be39cb8c",
   "metadata": {},
   "outputs": [
    {
     "data": {
      "text/plain": [
       "datetime.datetime(2025, 5, 27, 14, 16, 48, 556051)"
      ]
     },
     "execution_count": 3,
     "metadata": {},
     "output_type": "execute_result"
    }
   ],
   "source": [
    "end_datetime = datetime.now() - timedelta(days=30)\n",
    "end_datetime"
   ]
  },
  {
   "cell_type": "code",
   "execution_count": 4,
   "id": "c4c766f1-951f-40e6-aa3c-d4265b78248d",
   "metadata": {},
   "outputs": [],
   "source": [
    "ticker = \"MSFT\""
   ]
  },
  {
   "cell_type": "code",
   "execution_count": 5,
   "id": "948a37e4",
   "metadata": {},
   "outputs": [
    {
     "name": "stdout",
     "output_type": "stream",
     "text": [
      "Scrolling 9... \n",
      "Total Srcoll: 9\n",
      "News Collecting...\n",
      "processing: https://finance.yahoo.com/news/microsoft-prepared-walk-away-high-200355083.html                                                                \n",
      "News collected from 2025-06-19 04:03:00 to 2025-06-19 04:03:00\n"
     ]
    }
   ],
   "source": [
    "df_news = fetch_yfinance_news_data(ticker, end_datetime, 100, slp_time=10)"
   ]
  },
  {
   "cell_type": "code",
   "execution_count": 6,
   "id": "911547fb",
   "metadata": {},
   "outputs": [
    {
     "data": {
      "text/html": [
       "<div>\n",
       "<style scoped>\n",
       "    .dataframe tbody tr th:only-of-type {\n",
       "        vertical-align: middle;\n",
       "    }\n",
       "\n",
       "    .dataframe tbody tr th {\n",
       "        vertical-align: top;\n",
       "    }\n",
       "\n",
       "    .dataframe thead th {\n",
       "        text-align: right;\n",
       "    }\n",
       "</style>\n",
       "<table border=\"1\" class=\"dataframe\">\n",
       "  <thead>\n",
       "    <tr style=\"text-align: right;\">\n",
       "      <th></th>\n",
       "      <th>Datetime</th>\n",
       "      <th>headline</th>\n",
       "      <th>description</th>\n",
       "      <th>article</th>\n",
       "      <th>link</th>\n",
       "    </tr>\n",
       "  </thead>\n",
       "  <tbody>\n",
       "    <tr>\n",
       "      <th>195</th>\n",
       "      <td>2025-06-19 04:03:00</td>\n",
       "      <td>Amazon CEO Andy Jassy says company will cut jo...</td>\n",
       "      <td>Amazon CEO Andy Jassy said the company will re...</td>\n",
       "      <td>Amazon (AMZN) CEO Andy Jassy said the company ...</td>\n",
       "      <td>https://finance.yahoo.com/news/amazon-ceo-andy...</td>\n",
       "    </tr>\n",
       "    <tr>\n",
       "      <th>196</th>\n",
       "      <td>2025-06-19 04:03:00</td>\n",
       "      <td>Microsoft Stock Just Hit a Fresh High; Company...</td>\n",
       "      <td>Microsoft is reportedly planning to trim thous...</td>\n",
       "      <td>Erik McGregor / Contributor / Getty Images.Mic...</td>\n",
       "      <td>https://finance.yahoo.com/news/microsoft-stock...</td>\n",
       "    </tr>\n",
       "    <tr>\n",
       "      <th>197</th>\n",
       "      <td>2025-06-19 04:03:00</td>\n",
       "      <td>Microsoft Plans to Cut Thousands More Employees</td>\n",
       "      <td>A new round of workforce cuts at the Redmond, ...</td>\n",
       "      <td>A new round of workforce cuts at the Redmond, ...</td>\n",
       "      <td>https://finance.yahoo.com/m/314896d5-1469-3bf9...</td>\n",
       "    </tr>\n",
       "    <tr>\n",
       "      <th>198</th>\n",
       "      <td>2025-06-19 04:03:00</td>\n",
       "      <td>Microsoft's reported job cuts &amp; OpenAI beef: W...</td>\n",
       "      <td>Microsoft (MSFT) is reportedly planning to cut...</td>\n",
       "      <td>Microsoft (MSFT) is reportedly planning to cut...</td>\n",
       "      <td>https://finance.yahoo.com/video/microsofts-rep...</td>\n",
       "    </tr>\n",
       "    <tr>\n",
       "      <th>199</th>\n",
       "      <td>2025-06-19 04:03:00</td>\n",
       "      <td>Microsoft prepared to abandon high-stakes talk...</td>\n",
       "      <td>The tech giant has considered pausing discussi...</td>\n",
       "      <td>(Reuters) -Microsoft is prepared to abandon it...</td>\n",
       "      <td>https://finance.yahoo.com/news/microsoft-prepa...</td>\n",
       "    </tr>\n",
       "  </tbody>\n",
       "</table>\n",
       "</div>"
      ],
      "text/plain": [
       "               Datetime                                           headline  \\\n",
       "195 2025-06-19 04:03:00  Amazon CEO Andy Jassy says company will cut jo...   \n",
       "196 2025-06-19 04:03:00  Microsoft Stock Just Hit a Fresh High; Company...   \n",
       "197 2025-06-19 04:03:00    Microsoft Plans to Cut Thousands More Employees   \n",
       "198 2025-06-19 04:03:00  Microsoft's reported job cuts & OpenAI beef: W...   \n",
       "199 2025-06-19 04:03:00  Microsoft prepared to abandon high-stakes talk...   \n",
       "\n",
       "                                           description  \\\n",
       "195  Amazon CEO Andy Jassy said the company will re...   \n",
       "196  Microsoft is reportedly planning to trim thous...   \n",
       "197  A new round of workforce cuts at the Redmond, ...   \n",
       "198  Microsoft (MSFT) is reportedly planning to cut...   \n",
       "199  The tech giant has considered pausing discussi...   \n",
       "\n",
       "                                               article  \\\n",
       "195  Amazon (AMZN) CEO Andy Jassy said the company ...   \n",
       "196  Erik McGregor / Contributor / Getty Images.Mic...   \n",
       "197  A new round of workforce cuts at the Redmond, ...   \n",
       "198  Microsoft (MSFT) is reportedly planning to cut...   \n",
       "199  (Reuters) -Microsoft is prepared to abandon it...   \n",
       "\n",
       "                                                  link  \n",
       "195  https://finance.yahoo.com/news/amazon-ceo-andy...  \n",
       "196  https://finance.yahoo.com/news/microsoft-stock...  \n",
       "197  https://finance.yahoo.com/m/314896d5-1469-3bf9...  \n",
       "198  https://finance.yahoo.com/video/microsofts-rep...  \n",
       "199  https://finance.yahoo.com/news/microsoft-prepa...  "
      ]
     },
     "execution_count": 6,
     "metadata": {},
     "output_type": "execute_result"
    }
   ],
   "source": [
    "df_news.tail()"
   ]
  },
  {
   "cell_type": "code",
   "execution_count": 7,
   "id": "14df102e-5e27-4298-88a0-dde40a5df5c0",
   "metadata": {},
   "outputs": [],
   "source": [
    "df_news.to_csv(f\"../data/yf_news_{ticker}.csv\", index=False)"
   ]
  },
  {
   "cell_type": "code",
   "execution_count": 8,
   "id": "08c8b44f-e2e1-4d43-adb3-6009892f3adb",
   "metadata": {},
   "outputs": [
    {
     "data": {
      "text/plain": [
       "200"
      ]
     },
     "execution_count": 8,
     "metadata": {},
     "output_type": "execute_result"
    }
   ],
   "source": [
    "len(df_news)"
   ]
  }
 ],
 "metadata": {
  "kernelspec": {
   "display_name": "Python 3 (ipykernel)",
   "language": "python",
   "name": "python3"
  },
  "language_info": {
   "codemirror_mode": {
    "name": "ipython",
    "version": 3
   },
   "file_extension": ".py",
   "mimetype": "text/x-python",
   "name": "python",
   "nbconvert_exporter": "python",
   "pygments_lexer": "ipython3",
   "version": "3.10.16"
  }
 },
 "nbformat": 4,
 "nbformat_minor": 5
}
