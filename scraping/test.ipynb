{
 "cells": [
  {
   "cell_type": "code",
   "execution_count": 1,
   "id": "303004fc",
   "metadata": {},
   "outputs": [],
   "source": [
    "from yfinance_scraper import fetch_yfinance_news_data"
   ]
  },
  {
   "cell_type": "code",
   "execution_count": 2,
   "id": "086f1372",
   "metadata": {},
   "outputs": [],
   "source": [
    "from datetime import datetime, timedelta"
   ]
  },
  {
   "cell_type": "code",
   "execution_count": 3,
   "id": "be39cb8c",
   "metadata": {},
   "outputs": [
    {
     "data": {
      "text/plain": [
       "datetime.datetime(2025, 5, 25, 16, 42, 7, 948667)"
      ]
     },
     "execution_count": 3,
     "metadata": {},
     "output_type": "execute_result"
    }
   ],
   "source": [
    "end_datetime = datetime.now() - timedelta(days=30)\n",
    "end_datetime"
   ]
  },
  {
   "cell_type": "code",
   "execution_count": 4,
   "id": "c4c766f1-951f-40e6-aa3c-d4265b78248d",
   "metadata": {},
   "outputs": [],
   "source": [
    "ticker = \"AMZN\""
   ]
  },
  {
   "cell_type": "code",
   "execution_count": null,
   "id": "948a37e4",
   "metadata": {},
   "outputs": [
    {
     "name": "stdout",
     "output_type": "stream",
     "text": [
      "Scrolling 5..."
     ]
    }
   ],
   "source": [
    "df_news = fetch_yfinance_news_data(ticker, end_datetime, 100, slp_time=10)"
   ]
  },
  {
   "cell_type": "code",
   "execution_count": null,
   "id": "911547fb",
   "metadata": {},
   "outputs": [],
   "source": [
    "df_news.tail()"
   ]
  },
  {
   "cell_type": "code",
   "execution_count": null,
   "id": "14df102e-5e27-4298-88a0-dde40a5df5c0",
   "metadata": {},
   "outputs": [],
   "source": [
    "df_news.to_csv(f\"../data/yf_news_{ticker}.csv\", index=False)"
   ]
  },
  {
   "cell_type": "code",
   "execution_count": null,
   "id": "08c8b44f-e2e1-4d43-adb3-6009892f3adb",
   "metadata": {},
   "outputs": [],
   "source": []
  }
 ],
 "metadata": {
  "kernelspec": {
   "display_name": "Python 3 (ipykernel)",
   "language": "python",
   "name": "python3"
  },
  "language_info": {
   "codemirror_mode": {
    "name": "ipython",
    "version": 3
   },
   "file_extension": ".py",
   "mimetype": "text/x-python",
   "name": "python",
   "nbconvert_exporter": "python",
   "pygments_lexer": "ipython3",
   "version": "3.10.16"
  }
 },
 "nbformat": 4,
 "nbformat_minor": 5
}
