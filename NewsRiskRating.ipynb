{
 "cells": [
  {
   "cell_type": "code",
   "execution_count": null,
   "id": "a798d9b4-4d7a-49ad-bc15-537d55e7c0cc",
   "metadata": {},
   "outputs": [],
   "source": [
    "!pip install -q langchain_community langchain_groq langchain langchain-deepseek "
   ]
  },
  {
   "cell_type": "code",
   "execution_count": 14,
   "id": "25202dea-8e6f-4f4a-92a2-2186d9340076",
   "metadata": {},
   "outputs": [],
   "source": [
    "from langchain_groq import ChatGroq\n",
    "from langchain_core.prompts import PromptTemplate\n",
    "from langchain_core.output_parsers import StrOutputParser\n",
    "import pandas as pd \n",
    "import os, sys\n",
    "# from google.colab import files\n",
    "from dotenv import load_dotenv\n",
    "from langchain_deepseek import ChatDeepSeek\n",
    "from datetime import datetime"
   ]
  },
  {
   "cell_type": "code",
   "execution_count": 3,
   "id": "961918f9-f792-4654-84c7-59de0948a527",
   "metadata": {},
   "outputs": [],
   "source": [
    "load_dotenv()\n",
    "DEEPSEEK_API_KEY = os.getenv('DEEPSEEK_API_KEY')\n",
    "llm = ChatDeepSeek(\n",
    "    model=\"deepseek-reasoner\",\n",
    "    # model=\"deepseek-chat\",\n",
    "    temperature=0,\n",
    "    max_tokens=None,\n",
    "    timeout=None,\n",
    "    max_retries=2,\n",
    "    api_key = DEEPSEEK_API_KEY\n",
    ")"
   ]
  },
  {
   "cell_type": "code",
   "execution_count": 10,
   "id": "382a79a0-385d-456d-b3ec-5fef9629b4ba",
   "metadata": {},
   "outputs": [],
   "source": [
    "def llm_labling(headline, description, ticker):\n",
    "\n",
    "    prompt = PromptTemplate.from_template(\n",
    "        \"\"\"\n",
    "        You are a professional analyst working in financial risk management. \n",
    "        You will be given a stock ticker per a news headline and the news description. \n",
    "        Analyze the news headline and news description solely based on the stock ticker given\n",
    "        and take given stock ticker shareholders perspective to analyse. \n",
    "        Use the below ten risk categories to rate each risk from -10 to +10.\n",
    "        \n",
    "        -10 means Severe negative impact\n",
    "        0 means No material impact\n",
    "        10 means Significant positive impact\n",
    "        \n",
    "        Return an integer rating on each risk in json string format.\n",
    "        Focus on material relevance toward the stock ticker shareholders.\n",
    "        Do not add any descriptions or reasoning wordings in your answer.\n",
    "        \n",
    "        Risk Categories\n",
    "        1)\tStrategic Risk includes Industry, Competition, M&A, Executive Decisions, Business Development, Market Entry.\n",
    "        2)\tOperational Risk includes Process Failure or Improvement, Human Error, Accident, Delay, Vendor or Supply Chain, System Breakdown.\n",
    "        3)\tFinancial Risk includes Equity Valuation, Leverage, Cash Flow, Capital Structure, Audit or Tax, Liquidity Stress.\n",
    "        4)\tMarket Risk includes Sales, P&L, Interest Rate, Currency, Commodity, Volatility.\n",
    "        5)\tTechnology Risk includes Innovation, R&D, Cybersecurity, Outage, Data Breach, Legacy Systems.\n",
    "        6)\tCredit Risk includes Credit Downgrade, Concentration, Bankruptcy, Counterparty, Default Probability, Collateral Risk.\n",
    "        7)\tLegal Risk includes Litigation, Regulatory Breach, Compliance, AML, KYC, Contract Risk.\n",
    "        8)\tPolitical Risk includes Geopolitical, Trade Sanctions, Instability, Country Risk, Expropriation, Policy Change.\n",
    "        9)\tReputational Risk includes Marketing, Branding, Media, Public Relationship Crisis, Key Personnel Changes, Social Media Risk.\n",
    "        10)\tESG Risk includes Climate Risk, Pollution Control, Labor Rights, Product Safety, Ethical Conduct, Board Oversight.\n",
    "        \n",
    "        \\n\\n{ticker}\n",
    "        \\n\\n{headline}\n",
    "        \\n\\n{description} \n",
    "\n",
    "        \"\"\"\n",
    "    )\n",
    "    labeling_chain = (\n",
    "        prompt\n",
    "        |llm\n",
    "        |StrOutputParser()\n",
    "    )\n",
    "\n",
    "    result = labeling_chain.invoke({'headline': headline, 'description':description, 'ticker':ticker})\n",
    "    # analysis = result.split('/think>\\n')[-1]\n",
    "    # analysis = analysis.replace('\\n', ' ')\n",
    "\n",
    "    return result"
   ]
  },
  {
   "cell_type": "code",
   "execution_count": 5,
   "id": "e0eeadf5-2fac-43c9-82a4-037c7a1ba58c",
   "metadata": {},
   "outputs": [],
   "source": [
    "out_root = './data/DSRONlabeledV2'\n",
    "sc_root = './data/'\n",
    "\n",
    "os.makedirs(out_root, exist_ok=True)"
   ]
  },
  {
   "cell_type": "code",
   "execution_count": 6,
   "id": "491ed5bf-1cb7-4890-8a1b-b690524aa4de",
   "metadata": {},
   "outputs": [],
   "source": [
    "CSV_list = []\n",
    "for file in os.listdir(sc_root):\n",
    "    if not file.endswith('.csv'):\n",
    "        continue\n",
    "\n",
    "    CSV_list.append(file)"
   ]
  },
  {
   "cell_type": "code",
   "execution_count": 7,
   "id": "a6bbe594-1245-4ff8-be18-6f9b2fe12a40",
   "metadata": {},
   "outputs": [
    {
     "data": {
      "text/html": [
       "<div>\n",
       "<style scoped>\n",
       "    .dataframe tbody tr th:only-of-type {\n",
       "        vertical-align: middle;\n",
       "    }\n",
       "\n",
       "    .dataframe tbody tr th {\n",
       "        vertical-align: top;\n",
       "    }\n",
       "\n",
       "    .dataframe thead th {\n",
       "        text-align: right;\n",
       "    }\n",
       "</style>\n",
       "<table border=\"1\" class=\"dataframe\">\n",
       "  <thead>\n",
       "    <tr style=\"text-align: right;\">\n",
       "      <th></th>\n",
       "      <th>Datetime</th>\n",
       "      <th>headline</th>\n",
       "      <th>description</th>\n",
       "      <th>article</th>\n",
       "      <th>link</th>\n",
       "    </tr>\n",
       "  </thead>\n",
       "  <tbody>\n",
       "    <tr>\n",
       "      <th>0</th>\n",
       "      <td>2025-06-26 23:44:00</td>\n",
       "      <td>If Taiwan Semiconductor Is Near A Ceiling, Her...</td>\n",
       "      <td>Is Taiwan Semiconductor ready to take a breath...</td>\n",
       "      <td>Is Taiwan Semiconductor ready to take a breath...</td>\n",
       "      <td>https://finance.yahoo.com/m/0199bd52-694d-3088...</td>\n",
       "    </tr>\n",
       "    <tr>\n",
       "      <th>1</th>\n",
       "      <td>2025-06-26 23:05:00</td>\n",
       "      <td>Want $1 Million in Retirement? Invest $100,000...</td>\n",
       "      <td>These companies are the best at what they do, ...</td>\n",
       "      <td>Nvidia figures to be a primary beneficiary of ...</td>\n",
       "      <td>https://finance.yahoo.com/news/want-1-million-...</td>\n",
       "    </tr>\n",
       "    <tr>\n",
       "      <th>2</th>\n",
       "      <td>2025-06-26 19:31:00</td>\n",
       "      <td>Taiwan Semiconductor Manufacturing Company</td>\n",
       "      <td>Taiwan Semiconductor Manufacturing Company (TS...</td>\n",
       "      <td>Credit - Courtesy Taiwan Semiconductor Manufac...</td>\n",
       "      <td>https://finance.yahoo.com/news/taiwan-semicond...</td>\n",
       "    </tr>\n",
       "    <tr>\n",
       "      <th>3</th>\n",
       "      <td>2025-06-26 17:00:00</td>\n",
       "      <td>Trending tickers: Nvidia, Shell, Micron, Bumbl...</td>\n",
       "      <td>The latest investor updates on stocks that are...</td>\n",
       "      <td>Shares in chipmaker Nvidia (NVDA) rose more th...</td>\n",
       "      <td>https://finance.yahoo.com/news/nvidia-shell-mi...</td>\n",
       "    </tr>\n",
       "    <tr>\n",
       "      <th>4</th>\n",
       "      <td>2025-06-26 17:45:00</td>\n",
       "      <td>TSMC Just Fired a $10 Billion Warning Shot at ...</td>\n",
       "      <td>The chip giant's boldest forex move yet signal...</td>\n",
       "      <td>TSMC (NYSE:TSM) just announced a bold $10 bill...</td>\n",
       "      <td>https://finance.yahoo.com/news/tsmc-just-fired...</td>\n",
       "    </tr>\n",
       "  </tbody>\n",
       "</table>\n",
       "</div>"
      ],
      "text/plain": [
       "              Datetime                                           headline  \\\n",
       "0  2025-06-26 23:44:00  If Taiwan Semiconductor Is Near A Ceiling, Her...   \n",
       "1  2025-06-26 23:05:00  Want $1 Million in Retirement? Invest $100,000...   \n",
       "2  2025-06-26 19:31:00         Taiwan Semiconductor Manufacturing Company   \n",
       "3  2025-06-26 17:00:00  Trending tickers: Nvidia, Shell, Micron, Bumbl...   \n",
       "4  2025-06-26 17:45:00  TSMC Just Fired a $10 Billion Warning Shot at ...   \n",
       "\n",
       "                                         description  \\\n",
       "0  Is Taiwan Semiconductor ready to take a breath...   \n",
       "1  These companies are the best at what they do, ...   \n",
       "2  Taiwan Semiconductor Manufacturing Company (TS...   \n",
       "3  The latest investor updates on stocks that are...   \n",
       "4  The chip giant's boldest forex move yet signal...   \n",
       "\n",
       "                                             article  \\\n",
       "0  Is Taiwan Semiconductor ready to take a breath...   \n",
       "1  Nvidia figures to be a primary beneficiary of ...   \n",
       "2  Credit - Courtesy Taiwan Semiconductor Manufac...   \n",
       "3  Shares in chipmaker Nvidia (NVDA) rose more th...   \n",
       "4  TSMC (NYSE:TSM) just announced a bold $10 bill...   \n",
       "\n",
       "                                                link  \n",
       "0  https://finance.yahoo.com/m/0199bd52-694d-3088...  \n",
       "1  https://finance.yahoo.com/news/want-1-million-...  \n",
       "2  https://finance.yahoo.com/news/taiwan-semicond...  \n",
       "3  https://finance.yahoo.com/news/nvidia-shell-mi...  \n",
       "4  https://finance.yahoo.com/news/tsmc-just-fired...  "
      ]
     },
     "execution_count": 7,
     "metadata": {},
     "output_type": "execute_result"
    }
   ],
   "source": [
    "df = pd.read_csv(os.path.join(sc_root, file))\n",
    "df.head()"
   ]
  },
  {
   "cell_type": "code",
   "execution_count": 8,
   "id": "5d1ab5aa-ac0a-42a2-ae79-0d3f3dfaa9b0",
   "metadata": {},
   "outputs": [
    {
     "data": {
      "text/plain": [
       "('COIN',\n",
       " 'Equity Markets Close Higher as Trump Weighs Early Fed Chair Change',\n",
       " 'US benchmark equity indexes closed higher on Thursday, following media reports that President Donald')"
      ]
     },
     "execution_count": 8,
     "metadata": {},
     "output_type": "execute_result"
    }
   ],
   "source": [
    "news_id = 4\n",
    "ticker_id = 5\n",
    "\n",
    "ticker = CSV_list[ticker_id].split('.')[0].split('_news_')[-1]\n",
    "df = pd.read_csv(os.path.join(sc_root, CSV_list[ticker_id]))\n",
    "headline = df['headline'].iloc[news_id]\n",
    "description = df['description'].iloc[news_id]\n",
    "ticker, headline, description"
   ]
  },
  {
   "cell_type": "code",
   "execution_count": 11,
   "id": "b742414d-18af-42f1-b8ea-752d9cbdeb4a",
   "metadata": {},
   "outputs": [
    {
     "data": {
      "text/plain": [
       "'```json\\n{\\n  \"Strategic Risk\": 0,\\n  \"Operational Risk\": 0,\\n  \"Financial Risk\": 0,\\n  \"Market Risk\": 1,\\n  \"Technology Risk\": 0,\\n  \"Credit Risk\": 0,\\n  \"Legal Risk\": 0,\\n  \"Political Risk\": 0,\\n  \"Reputational Risk\": 0,\\n  \"ESG Risk\": 0\\n}\\n```'"
      ]
     },
     "execution_count": 11,
     "metadata": {},
     "output_type": "execute_result"
    }
   ],
   "source": [
    "response = llm_labling(headline, description, ticker)\n",
    "response"
   ]
  },
  {
   "cell_type": "code",
   "execution_count": 41,
   "id": "5ee03dcb-caa1-4b41-a8fb-c1158df8a59e",
   "metadata": {},
   "outputs": [
    {
     "data": {
      "text/plain": [
       "'```json\\n{\\n  \"Market Risk\": 0,\\n  \"Financial Risk\": 0,\\n  \"Credit Risk\": 0,\\n  \"Regulatory & Compliance Risk\": 0,\\n  \"Political Risk\": -2,\\n  \"Technology Risk\": 0,\\n  \"Environmental Risk\": 0,\\n  \"Operational Risk\": -5,\\n  \"Reputational Risk\": -8\\n}\\n```'"
      ]
     },
     "execution_count": 41,
     "metadata": {},
     "output_type": "execute_result"
    }
   ],
   "source": [
    "response = llm_labling(headline, description, ticker)\n",
    "response"
   ]
  },
  {
   "cell_type": "code",
   "execution_count": 43,
   "id": "0730dd74-5d89-47db-9b3d-9bbbb3ddcc1a",
   "metadata": {},
   "outputs": [
    {
     "data": {
      "text/plain": [
       "'```json\\n{\\n  \"Market Risk\": {\\n    \"Interest Rate\": -2,\\n    \"Currency\": 0,\\n    \"Commodity\": 0,\\n    \"Volatility\": -1,\\n    \"Liquidity\": 0\\n  },\\n  \"Financial Risk\": {\\n    \"Equity Valuation\": 0,\\n    \"Leverage\": 0,\\n    \"Cash Flow\": 0,\\n    \"Capital Structure\": 0\\n  },\\n  \"Credit Risk\": {\\n    \"Credit Downgrade\": 0,\\n    \"Concentration\": 0,\\n    \"Bankruptcy\": 0,\\n    \"Counterparty\": 0\\n  },\\n  \"Regulatory & Compliance Risk\": {\\n    \"Legal\": 0,\\n    \"AML\": 0,\\n    \"Regulatory Breach\": 0,\\n    \"KYC\": 0\\n  },\\n  \"Political Risk\": {\\n    \"Geopolitical\": 0,\\n    \"Trade Sanctions\": 0,\\n    \"Instability\": 0\\n  },\\n  \"Technology Risk\": {\\n    \"Cybersecurity\": 0,\\n    \"Outage\": 0,\\n    \"Data Breach\": 0\\n  },\\n  \"Environmental Risk\": {\\n    \"Climate\": 0,\\n    \"Carbon Regulation\": 0,\\n    \"Natural Disasters\": 0\\n  },\\n  \"Operational Risk\": {\\n    \"Process Failure\": 0,\\n    \"Human Error\": 0,\\n    \"Vendor\": 0\\n  },\\n  \"Strategic Risk\": {\\n    \"Industry\": 0,\\n    \"Competition\": 0,\\n    \"M&A\": 0,\\n    \"Innovation\": 0\\n  },\\n  \"Reputational Risk\": {\\n    \"Data Breach\": 0,\\n    \"ESG\": 0,\\n    \"Media/PR Crisis\": 0\\n  }\\n}\\n```'"
      ]
     },
     "execution_count": 43,
     "metadata": {},
     "output_type": "execute_result"
    }
   ],
   "source": [
    "response = llm_labling(headline, description, ticker)\n",
    "response"
   ]
  },
  {
   "cell_type": "code",
   "execution_count": 16,
   "id": "694a97ce-0812-43b2-895d-ee0f825fe129",
   "metadata": {},
   "outputs": [
    {
     "data": {
      "text/plain": [
       "-10.00163"
      ]
     },
     "execution_count": 16,
     "metadata": {},
     "output_type": "execute_result"
    }
   ],
   "source": [
    "tot_time.total_seconds()"
   ]
  },
  {
   "cell_type": "code",
   "execution_count": null,
   "id": "d21729da-c75c-4086-b778-8537a4a9c884",
   "metadata": {},
   "outputs": [
    {
     "name": "stdout",
     "output_type": "stream",
     "text": [
      "yf_news_AAPL.csv - skipped\n",
      "\n",
      "----------------------------------------------------------\n",
      "\n",
      "yf_news_AMZN.csv - total news: 198\n",
      "total time taken 136.94926070000002 minto enhance its India infrastructure                                                                                                   \n",
      "\n",
      "----------------------------------------------------------\n",
      "\n",
      "yf_news_BA.csv - total news: 200\n",
      "total time taken 132.40044963333332 minomers, Innovation and Partnership at Paris Air Show 2025                                                                                       \n",
      "\n",
      "----------------------------------------------------------\n",
      "\n",
      "yf_news_BABA.csv - total news: 199\n",
      "85 processing: Market Chatter: Apple, Alibaba AI Rollout in China Delayed by Regulators Amid Rising US-China Tensions                                                 "
     ]
    }
   ],
   "source": [
    "for file in os.listdir(sc_root):\n",
    "    if not file.endswith('.csv'):\n",
    "        continue\n",
    "\n",
    "    if os.path.isfile(os.path.join(out_root, file)):\n",
    "        print(f\"{file} - skipped\")\n",
    "        print(\"\\n----------------------------------------------------------\\n\")\n",
    "        continue\n",
    "\n",
    "    df = pd.read_csv(os.path.join(sc_root, file))\n",
    "\n",
    "    analysis = []\n",
    "    print_str = ' '\n",
    "    print(f\"{file} - total news: {len(df)}\")\n",
    "    ticker = file.split('.')[0].split('news_')[-1]\n",
    "    st_time = datetime.now()\n",
    "    for i, (headline, description) in enumerate(zip(df['headline'], df['description'])):\n",
    "        sys.stdout.flush()\n",
    "        print_str = '\\r' + ''.join([' ' for i in range(len(print_str))])\n",
    "        sys.stdout.write(print_str)\n",
    "\n",
    "        sys.stdout.flush()\n",
    "        print_str = f'\\r{i} processing: {headline}'\n",
    "        sys.stdout.write(print_str)\n",
    "\n",
    "        response = llm_labling(headline, description, ticker)\n",
    "\n",
    "        analysis.append(response)\n",
    "    end_time = datetime.now()\n",
    "    print(f\"\\n\n",
    "    total time taken {(end_time - st_time).total_seconds() / 60} min\")\n",
    "    df['responses'] = analysis\n",
    "    df.to_csv(os.path.join(out_root, file))\n",
    "    \n",
    "    print(\"\\n----------------------------------------------------------\\n\")"
   ]
  },
  {
   "cell_type": "code",
   "execution_count": null,
   "id": "8706f15d-0f5d-472c-a0fd-e6d63fa7b06c",
   "metadata": {},
   "outputs": [],
   "source": []
  },
  {
   "cell_type": "code",
   "execution_count": null,
   "id": "2e411628-9706-4dd0-9ede-de4c22e73c61",
   "metadata": {},
   "outputs": [],
   "source": [
    "df = pd.read_csv(\"./data/DSRONlabeledV2/yf_news_AAPL.csv\", index_col=0, encoding='latin1')"
   ]
  },
  {
   "cell_type": "code",
   "execution_count": 26,
   "id": "4182cd3e-d9c8-498b-b782-7d1e16ba9235",
   "metadata": {},
   "outputs": [
    {
     "data": {
      "text/plain": [
       "'Market Risk, \"Financial Risk, \"Credit Risk, \"Regulatory & Compliance Risk, \"Political Risk, \"Technology Risk, \"Environmental Risk, \"Operational Risk, \"Strategic Risk, \"Reputational'"
      ]
     },
     "execution_count": 26,
     "metadata": {},
     "output_type": "execute_result"
    }
   ],
   "source": [
    "json_str = df['responses'][0]\n",
    "json_str"
   ]
  },
  {
   "cell_type": "code",
   "execution_count": null,
   "id": "1fca2495-7845-45d7-a767-da8ca8e5abab",
   "metadata": {},
   "outputs": [],
   "source": [
    "json_str = json_str.replace(\"```\", \"\")\n",
    "json_str = json_str.replace(\"\\n\", \"\")\n",
    "json_str = json_str.replace(\"json\", \"\")\n",
    "# eval_str = 'risk_dict = ' + json_str\n",
    "risk_dict = eval(json_str)\n",
    "risk_dict"
   ]
  },
  {
   "cell_type": "code",
   "execution_count": 1,
   "id": "ab9861e2-0a0b-4d7f-9f6c-339ffb5ecc31",
   "metadata": {},
   "outputs": [],
   "source": [
    "def jsonstr2dict(json_str):\n",
    "    json_str = json_str.replace(\"```\", \"\")\n",
    "    json_str = json_str.replace(\"\\n\", \"\")\n",
    "    json_str = json_str.replace(\"json\", \"\")\n",
    "\n",
    "    return eval(json_str)\n",
    "\n",
    "def dict2ans(rank_dict):\n",
    "    item_list = list(rank_dict.items())\n",
    "    ans_str = \"\"\n",
    "    for risk, rank in item_list:\n",
    "        ans_str += f\"{risk}: {rank}\\n\"\n",
    "\n",
    "    return ans_str\n",
    "\n",
    "def jsonstr2ans(json_str):\n",
    "    ans_dict = jsonstr2dict(json_str)\n",
    "    return dict2ans(ans_dict)"
   ]
  },
  {
   "cell_type": "code",
   "execution_count": 2,
   "id": "47c2c211-866a-4a99-9c4e-9e98f42a413a",
   "metadata": {},
   "outputs": [
    {
     "ename": "NameError",
     "evalue": "name 'df' is not defined",
     "output_type": "error",
     "traceback": [
      "\u001b[1;31m---------------------------------------------------------------------------\u001b[0m",
      "\u001b[1;31mNameError\u001b[0m                                 Traceback (most recent call last)",
      "Cell \u001b[1;32mIn[2], line 1\u001b[0m\n\u001b[1;32m----> 1\u001b[0m risk_answers \u001b[38;5;241m=\u001b[39m \u001b[43mdf\u001b[49m[\u001b[38;5;124m'\u001b[39m\u001b[38;5;124mresponses\u001b[39m\u001b[38;5;124m'\u001b[39m]\u001b[38;5;241m.\u001b[39mapply(jsonstr2ans)\n",
      "\u001b[1;31mNameError\u001b[0m: name 'df' is not defined"
     ]
    }
   ],
   "source": [
    "risk_answers = df['responses'].apply(jsonstr2ans)"
   ]
  }
 ],
 "metadata": {
  "kernelspec": {
   "display_name": "Python 3 (ipykernel)",
   "language": "python",
   "name": "python3"
  },
  "language_info": {
   "codemirror_mode": {
    "name": "ipython",
    "version": 3
   },
   "file_extension": ".py",
   "mimetype": "text/x-python",
   "name": "python",
   "nbconvert_exporter": "python",
   "pygments_lexer": "ipython3",
   "version": "3.10.16"
  }
 },
 "nbformat": 4,
 "nbformat_minor": 5
}
