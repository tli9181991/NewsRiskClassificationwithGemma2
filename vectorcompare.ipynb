{
 "cells": [
  {
   "cell_type": "code",
   "execution_count": 46,
   "id": "5771d856-6558-42c4-90fc-998e3f7c5f5e",
   "metadata": {},
   "outputs": [],
   "source": [
    "import pandas as pd\n",
    "import numpy as np"
   ]
  },
  {
   "cell_type": "code",
   "execution_count": 47,
   "id": "2a3b5187-e16c-49ae-8653-d79ab388c770",
   "metadata": {},
   "outputs": [
    {
     "data": {
      "text/html": [
       "<div>\n",
       "<style scoped>\n",
       "    .dataframe tbody tr th:only-of-type {\n",
       "        vertical-align: middle;\n",
       "    }\n",
       "\n",
       "    .dataframe tbody tr th {\n",
       "        vertical-align: top;\n",
       "    }\n",
       "\n",
       "    .dataframe thead th {\n",
       "        text-align: right;\n",
       "    }\n",
       "</style>\n",
       "<table border=\"1\" class=\"dataframe\">\n",
       "  <thead>\n",
       "    <tr style=\"text-align: right;\">\n",
       "      <th></th>\n",
       "      <th>ticker</th>\n",
       "      <th>headline</th>\n",
       "      <th>description</th>\n",
       "      <th>answer</th>\n",
       "    </tr>\n",
       "  </thead>\n",
       "  <tbody>\n",
       "    <tr>\n",
       "      <th>0</th>\n",
       "      <td>AAPL</td>\n",
       "      <td>Apples (AAPL) Next Big AI Move? Analyst Sees ...</td>\n",
       "      <td>Apple Inc. (NASDAQ:AAPL) is one of the 10 Tren...</td>\n",
       "      <td>Strategic Risk: 10\\r\\nOperational Risk: 0\\r\\nF...</td>\n",
       "    </tr>\n",
       "    <tr>\n",
       "      <th>1</th>\n",
       "      <td>AAPL</td>\n",
       "      <td>Nvidia: How the chipmaker evolved from a gamin...</td>\n",
       "      <td>Heres a look at Nvidias path to where it is ...</td>\n",
       "      <td>Strategic Risk: -7\\r\\nOperational Risk: 0\\r\\nF...</td>\n",
       "    </tr>\n",
       "    <tr>\n",
       "      <th>2</th>\n",
       "      <td>AAPL</td>\n",
       "      <td>Apple (AAPL) Staring at 500 Fine in EU over A...</td>\n",
       "      <td>Apple Inc. (NASDAQ:AAPL) is one of the 12 best...</td>\n",
       "      <td>Strategic Risk: -3\\r\\nOperational Risk: -1\\r\\n...</td>\n",
       "    </tr>\n",
       "  </tbody>\n",
       "</table>\n",
       "</div>"
      ],
      "text/plain": [
       "  ticker                                           headline  \\\n",
       "0   AAPL  Apples (AAPL) Next Big AI Move? Analyst Sees ...   \n",
       "1   AAPL  Nvidia: How the chipmaker evolved from a gamin...   \n",
       "2   AAPL  Apple (AAPL) Staring at 500 Fine in EU over A...   \n",
       "\n",
       "                                         description  \\\n",
       "0  Apple Inc. (NASDAQ:AAPL) is one of the 10 Tren...   \n",
       "1  Heres a look at Nvidias path to where it is ...   \n",
       "2  Apple Inc. (NASDAQ:AAPL) is one of the 12 best...   \n",
       "\n",
       "                                              answer  \n",
       "0  Strategic Risk: 10\\r\\nOperational Risk: 0\\r\\nF...  \n",
       "1  Strategic Risk: -7\\r\\nOperational Risk: 0\\r\\nF...  \n",
       "2  Strategic Risk: -3\\r\\nOperational Risk: -1\\r\\n...  "
      ]
     },
     "execution_count": 47,
     "metadata": {},
     "output_type": "execute_result"
    }
   ],
   "source": [
    "df_raw = pd.read_csv('./rank_test.csv')\n",
    "df_raw.head(3)"
   ]
  },
  {
   "cell_type": "code",
   "execution_count": 48,
   "id": "f5aa2a52-3141-4440-bc7f-a205d77967e0",
   "metadata": {},
   "outputs": [],
   "source": [
    "risk_list = ['Strategic Risk',\n",
    " 'Operational Risk',\n",
    " 'Financial Risk',\n",
    " 'Market Risk',\n",
    " 'Technology Risk',\n",
    " 'Credit Risk',\n",
    " 'Legal Risk',\n",
    " 'Political Risk',\n",
    " 'Reputational Risk',\n",
    " 'ESG Risk']"
   ]
  },
  {
   "cell_type": "code",
   "execution_count": 49,
   "id": "77edfb17-eb6f-482d-8c81-55523087decc",
   "metadata": {},
   "outputs": [],
   "source": [
    "def ans2vec(ans):\n",
    "    risk_dict = {}\n",
    "    vec = []\n",
    "    for risk in risk_list:\n",
    "        if risk in ans:\n",
    "            rank = float(ans.split(risk + ': ')[1].split('\\n')[0])\n",
    "            vec.append(rank)\n",
    "        else:\n",
    "            vec.append(0)\n",
    "            \n",
    "    return np.array(vec)"
   ]
  },
  {
   "cell_type": "code",
   "execution_count": 50,
   "id": "cf8e1e26-79ed-4549-9d19-302f82082e6d",
   "metadata": {},
   "outputs": [
    {
     "data": {
      "text/plain": [
       "0      [10.0, 0.0, 10.0, 10.0, 10.0, 0.0, 0.0, 0.0, 1...\n",
       "1      [-7.0, 0.0, 0.0, 0.0, -5.0, 0.0, 0.0, 0.0, 0.0...\n",
       "2      [-3.0, -1.0, -2.0, -1.0, 0.0, 0.0, -7.0, -3.0,...\n",
       "3      [-1.0, 0.0, 0.0, -1.0, 1.0, 0.0, 0.0, 0.0, 0.0...\n",
       "4      [0.0, 0.0, -5.0, -7.0, 0.0, 0.0, 0.0, 0.0, -3....\n",
       "                             ...                        \n",
       "976    [7.0, 0.0, 5.0, 6.0, 5.0, 0.0, -8.0, -9.0, -3....\n",
       "977    [0.0, -3.0, 0.0, -1.0, 0.0, 0.0, 0.0, 0.0, -1....\n",
       "978    [-2.0, 0.0, 5.0, 7.0, 8.0, 0.0, -1.0, -5.0, 3....\n",
       "979    [2.0, -3.0, 0.0, 1.0, 0.0, 0.0, -4.0, -8.0, -2...\n",
       "980    [7.0, 0.0, 6.0, 5.0, 0.0, 4.0, 0.0, 0.0, 7.0, ...\n",
       "Name: answer, Length: 981, dtype: object"
      ]
     },
     "execution_count": 50,
     "metadata": {},
     "output_type": "execute_result"
    }
   ],
   "source": [
    "label_ans_vec = df_raw['answer'].apply(ans2vec)\n",
    "label_ans_vec"
   ]
  },
  {
   "cell_type": "code",
   "execution_count": 51,
   "id": "97162a0d-037e-4cc6-a1c9-b62e2356218a",
   "metadata": {},
   "outputs": [
    {
     "data": {
      "text/html": [
       "<div>\n",
       "<style scoped>\n",
       "    .dataframe tbody tr th:only-of-type {\n",
       "        vertical-align: middle;\n",
       "    }\n",
       "\n",
       "    .dataframe tbody tr th {\n",
       "        vertical-align: top;\n",
       "    }\n",
       "\n",
       "    .dataframe thead th {\n",
       "        text-align: right;\n",
       "    }\n",
       "</style>\n",
       "<table border=\"1\" class=\"dataframe\">\n",
       "  <thead>\n",
       "    <tr style=\"text-align: right;\">\n",
       "      <th></th>\n",
       "      <th>ticker</th>\n",
       "      <th>headline</th>\n",
       "      <th>description</th>\n",
       "      <th>answer</th>\n",
       "      <th>ft_answer</th>\n",
       "    </tr>\n",
       "  </thead>\n",
       "  <tbody>\n",
       "    <tr>\n",
       "      <th>0</th>\n",
       "      <td>AAPL</td>\n",
       "      <td>Apples (AAPL) Next Big AI Move? Analyst Sees ...</td>\n",
       "      <td>Apple Inc. (NASDAQ:AAPL) is one of the 10 Tren...</td>\n",
       "      <td>Strategic Risk: 10\\nOperational Risk: 0\\nFinan...</td>\n",
       "      <td>\\nStrategic Risk: 8\\nOperational Risk: 0\\nFina...</td>\n",
       "    </tr>\n",
       "    <tr>\n",
       "      <th>1</th>\n",
       "      <td>AAPL</td>\n",
       "      <td>Nvidia: How the chipmaker evolved from a gamin...</td>\n",
       "      <td>Heres a look at Nvidias path to where it is ...</td>\n",
       "      <td>Strategic Risk: -7\\nOperational Risk: 0\\nFinan...</td>\n",
       "      <td>\\nStrategic_Risk: 0\\nOperational_Risk: 0\\nFina...</td>\n",
       "    </tr>\n",
       "    <tr>\n",
       "      <th>2</th>\n",
       "      <td>AAPL</td>\n",
       "      <td>Apple (AAPL) Staring at 500 Fine in EU over A...</td>\n",
       "      <td>Apple Inc. (NASDAQ:AAPL) is one of the 12 best...</td>\n",
       "      <td>Strategic Risk: -3\\nOperational Risk: -1\\nFina...</td>\n",
       "      <td>\\nStrategic Risk: -4\\nOperational Risk: -3\\nFi...</td>\n",
       "    </tr>\n",
       "  </tbody>\n",
       "</table>\n",
       "</div>"
      ],
      "text/plain": [
       "  ticker                                           headline  \\\n",
       "0   AAPL  Apples (AAPL) Next Big AI Move? Analyst Sees ...   \n",
       "1   AAPL  Nvidia: How the chipmaker evolved from a gamin...   \n",
       "2   AAPL  Apple (AAPL) Staring at 500 Fine in EU over A...   \n",
       "\n",
       "                                         description  \\\n",
       "0  Apple Inc. (NASDAQ:AAPL) is one of the 10 Tren...   \n",
       "1  Heres a look at Nvidias path to where it is ...   \n",
       "2  Apple Inc. (NASDAQ:AAPL) is one of the 12 best...   \n",
       "\n",
       "                                              answer  \\\n",
       "0  Strategic Risk: 10\\nOperational Risk: 0\\nFinan...   \n",
       "1  Strategic Risk: -7\\nOperational Risk: 0\\nFinan...   \n",
       "2  Strategic Risk: -3\\nOperational Risk: -1\\nFina...   \n",
       "\n",
       "                                           ft_answer  \n",
       "0  \\nStrategic Risk: 8\\nOperational Risk: 0\\nFina...  \n",
       "1  \\nStrategic_Risk: 0\\nOperational_Risk: 0\\nFina...  \n",
       "2  \\nStrategic Risk: -4\\nOperational Risk: -3\\nFi...  "
      ]
     },
     "execution_count": 51,
     "metadata": {},
     "output_type": "execute_result"
    }
   ],
   "source": [
    "df_ft = pd.read_csv('./ft_rank_test.csv')\n",
    "df_ft.head(3)"
   ]
  },
  {
   "cell_type": "code",
   "execution_count": 60,
   "id": "1614d4f8-f857-4995-82ae-567683fe5038",
   "metadata": {},
   "outputs": [
    {
     "data": {
      "text/plain": [
       "0      [8.0, 0.0, 7.0, 8.0, 9.0, 0.0, 0.0, 0.0, 5.0, ...\n",
       "1                         [0, 0, 0, 0, 0, 0, 0, 0, 0, 0]\n",
       "2      [-4.0, -3.0, -6.0, -4.0, 0.0, 0.0, -8.0, -5.0,...\n",
       "3      [0.0, 0.0, 0.0, 0.0, 2.0, 0.0, 0.0, 0.0, 0.0, ...\n",
       "4      [-3.0, 0.0, -5.0, -7.0, 0.0, 0.0, 0.0, 0.0, -2...\n",
       "                             ...                        \n",
       "976    [-8.0, -7.0, -6.0, -8.0, -7.0, -5.0, -6.0, -9....\n",
       "977    [-3.0, -4.0, -1.0, -2.0, 0.0, 0.0, -1.0, -2.0,...\n",
       "978                       [0, 0, 0, 0, 0, 0, 0, 0, 0, 0]\n",
       "979    [-7.0, -2.0, -5.0, -4.0, 0.0, -1.0, -8.0, -9.0...\n",
       "980    [4.0, 0.0, 3.0, 5.0, 0.0, 0.0, 0.0, 0.0, 4.0, ...\n",
       "Name: ft_answer, Length: 981, dtype: object"
      ]
     },
     "execution_count": 60,
     "metadata": {},
     "output_type": "execute_result"
    }
   ],
   "source": [
    "ftlabel_ans_vec = df_ft['ft_answer'].apply(ans2vec)\n",
    "ftlabel_ans_vec"
   ]
  },
  {
   "cell_type": "code",
   "execution_count": 66,
   "id": "9ab4ddd5-3b28-4f43-93fc-2b8e922e75d8",
   "metadata": {},
   "outputs": [
    {
     "data": {
      "text/plain": [
       "6.644075890891342"
      ]
     },
     "execution_count": 66,
     "metadata": {},
     "output_type": "execute_result"
    }
   ],
   "source": [
    "tot_mse = 0\n",
    "for ans, ft_ans in zip(label_ans_vec, ftlabel_ans_vec):\n",
    "    det_vec = ans - ft_ans\n",
    "    tot_mse += np.linalg.norm(det_vec)\n",
    "\n",
    "avg_mse = tot_mse / len(label_ans_vec)\n",
    "avg_mse"
   ]
  },
  {
   "cell_type": "code",
   "execution_count": 64,
   "id": "b47aad02-6ac5-4ec2-8f69-e5e2a0e208cb",
   "metadata": {},
   "outputs": [
    {
     "data": {
      "text/plain": [
       "6.557438524302"
      ]
     },
     "execution_count": 64,
     "metadata": {},
     "output_type": "execute_result"
    }
   ],
   "source": [
    "det_vec = label_ans_vec[0] - ftlabel_ans_vec[0]\n",
    "np.linalg.norm(det_vec)"
   ]
  },
  {
   "cell_type": "code",
   "execution_count": null,
   "id": "7a7d0a39-584a-49b6-9604-40e842492fa9",
   "metadata": {},
   "outputs": [],
   "source": []
  }
 ],
 "metadata": {
  "kernelspec": {
   "display_name": "Python 3 (ipykernel)",
   "language": "python",
   "name": "python3"
  },
  "language_info": {
   "codemirror_mode": {
    "name": "ipython",
    "version": 3
   },
   "file_extension": ".py",
   "mimetype": "text/x-python",
   "name": "python",
   "nbconvert_exporter": "python",
   "pygments_lexer": "ipython3",
   "version": "3.10.16"
  }
 },
 "nbformat": 4,
 "nbformat_minor": 5
}
